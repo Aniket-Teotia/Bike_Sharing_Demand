{
 "cells": [
  {
   "cell_type": "markdown",
   "id": "faf1cfd4",
   "metadata": {},
   "source": [
    "# LEADING BIKES MOBILITY SERVICE PROVIDER"
   ]
  },
  {
   "cell_type": "markdown",
   "id": "21fe2741",
   "metadata": {},
   "source": [
    "Problem Statement-\n",
    "1. Which variables are significant in predicting the demand for shared electric cycles in the Indian market?\n",
    "2. How well those variables describe the electric cycle demands and there intensity of influence on the demand?"
   ]
  },
  {
   "cell_type": "code",
   "execution_count": 3,
   "id": "2761ca54",
   "metadata": {},
   "outputs": [],
   "source": [
    "import numpy as np\n",
    "import pandas as pd\n",
    "import matplotlib.pyplot as plt\n",
    "import seaborn as sns\n",
    "import scipy.stats as stats"
   ]
  },
  {
   "cell_type": "code",
   "execution_count": 19,
   "id": "4441247d",
   "metadata": {},
   "outputs": [
    {
     "data": {
      "text/html": [
       "<div>\n",
       "<style scoped>\n",
       "    .dataframe tbody tr th:only-of-type {\n",
       "        vertical-align: middle;\n",
       "    }\n",
       "\n",
       "    .dataframe tbody tr th {\n",
       "        vertical-align: top;\n",
       "    }\n",
       "\n",
       "    .dataframe thead th {\n",
       "        text-align: right;\n",
       "    }\n",
       "</style>\n",
       "<table border=\"1\" class=\"dataframe\">\n",
       "  <thead>\n",
       "    <tr style=\"text-align: right;\">\n",
       "      <th></th>\n",
       "      <th>datetime</th>\n",
       "      <th>season</th>\n",
       "      <th>holiday</th>\n",
       "      <th>workingday</th>\n",
       "      <th>weather</th>\n",
       "      <th>temp</th>\n",
       "      <th>atemp</th>\n",
       "      <th>humidity</th>\n",
       "      <th>windspeed</th>\n",
       "      <th>casual</th>\n",
       "      <th>registered</th>\n",
       "      <th>count</th>\n",
       "    </tr>\n",
       "  </thead>\n",
       "  <tbody>\n",
       "    <tr>\n",
       "      <th>0</th>\n",
       "      <td>2011-01-01 00:00:00</td>\n",
       "      <td>1</td>\n",
       "      <td>0</td>\n",
       "      <td>0</td>\n",
       "      <td>1</td>\n",
       "      <td>9.84</td>\n",
       "      <td>14.395</td>\n",
       "      <td>81</td>\n",
       "      <td>0.0000</td>\n",
       "      <td>3</td>\n",
       "      <td>13</td>\n",
       "      <td>16</td>\n",
       "    </tr>\n",
       "    <tr>\n",
       "      <th>1</th>\n",
       "      <td>2011-01-01 01:00:00</td>\n",
       "      <td>1</td>\n",
       "      <td>0</td>\n",
       "      <td>0</td>\n",
       "      <td>1</td>\n",
       "      <td>9.02</td>\n",
       "      <td>13.635</td>\n",
       "      <td>80</td>\n",
       "      <td>0.0000</td>\n",
       "      <td>8</td>\n",
       "      <td>32</td>\n",
       "      <td>40</td>\n",
       "    </tr>\n",
       "    <tr>\n",
       "      <th>2</th>\n",
       "      <td>2011-01-01 02:00:00</td>\n",
       "      <td>1</td>\n",
       "      <td>0</td>\n",
       "      <td>0</td>\n",
       "      <td>1</td>\n",
       "      <td>9.02</td>\n",
       "      <td>13.635</td>\n",
       "      <td>80</td>\n",
       "      <td>0.0000</td>\n",
       "      <td>5</td>\n",
       "      <td>27</td>\n",
       "      <td>32</td>\n",
       "    </tr>\n",
       "    <tr>\n",
       "      <th>3</th>\n",
       "      <td>2011-01-01 03:00:00</td>\n",
       "      <td>1</td>\n",
       "      <td>0</td>\n",
       "      <td>0</td>\n",
       "      <td>1</td>\n",
       "      <td>9.84</td>\n",
       "      <td>14.395</td>\n",
       "      <td>75</td>\n",
       "      <td>0.0000</td>\n",
       "      <td>3</td>\n",
       "      <td>10</td>\n",
       "      <td>13</td>\n",
       "    </tr>\n",
       "    <tr>\n",
       "      <th>4</th>\n",
       "      <td>2011-01-01 04:00:00</td>\n",
       "      <td>1</td>\n",
       "      <td>0</td>\n",
       "      <td>0</td>\n",
       "      <td>1</td>\n",
       "      <td>9.84</td>\n",
       "      <td>14.395</td>\n",
       "      <td>75</td>\n",
       "      <td>0.0000</td>\n",
       "      <td>0</td>\n",
       "      <td>1</td>\n",
       "      <td>1</td>\n",
       "    </tr>\n",
       "    <tr>\n",
       "      <th>...</th>\n",
       "      <td>...</td>\n",
       "      <td>...</td>\n",
       "      <td>...</td>\n",
       "      <td>...</td>\n",
       "      <td>...</td>\n",
       "      <td>...</td>\n",
       "      <td>...</td>\n",
       "      <td>...</td>\n",
       "      <td>...</td>\n",
       "      <td>...</td>\n",
       "      <td>...</td>\n",
       "      <td>...</td>\n",
       "    </tr>\n",
       "    <tr>\n",
       "      <th>10881</th>\n",
       "      <td>2012-12-19 19:00:00</td>\n",
       "      <td>4</td>\n",
       "      <td>0</td>\n",
       "      <td>1</td>\n",
       "      <td>1</td>\n",
       "      <td>15.58</td>\n",
       "      <td>19.695</td>\n",
       "      <td>50</td>\n",
       "      <td>26.0027</td>\n",
       "      <td>7</td>\n",
       "      <td>329</td>\n",
       "      <td>336</td>\n",
       "    </tr>\n",
       "    <tr>\n",
       "      <th>10882</th>\n",
       "      <td>2012-12-19 20:00:00</td>\n",
       "      <td>4</td>\n",
       "      <td>0</td>\n",
       "      <td>1</td>\n",
       "      <td>1</td>\n",
       "      <td>14.76</td>\n",
       "      <td>17.425</td>\n",
       "      <td>57</td>\n",
       "      <td>15.0013</td>\n",
       "      <td>10</td>\n",
       "      <td>231</td>\n",
       "      <td>241</td>\n",
       "    </tr>\n",
       "    <tr>\n",
       "      <th>10883</th>\n",
       "      <td>2012-12-19 21:00:00</td>\n",
       "      <td>4</td>\n",
       "      <td>0</td>\n",
       "      <td>1</td>\n",
       "      <td>1</td>\n",
       "      <td>13.94</td>\n",
       "      <td>15.910</td>\n",
       "      <td>61</td>\n",
       "      <td>15.0013</td>\n",
       "      <td>4</td>\n",
       "      <td>164</td>\n",
       "      <td>168</td>\n",
       "    </tr>\n",
       "    <tr>\n",
       "      <th>10884</th>\n",
       "      <td>2012-12-19 22:00:00</td>\n",
       "      <td>4</td>\n",
       "      <td>0</td>\n",
       "      <td>1</td>\n",
       "      <td>1</td>\n",
       "      <td>13.94</td>\n",
       "      <td>17.425</td>\n",
       "      <td>61</td>\n",
       "      <td>6.0032</td>\n",
       "      <td>12</td>\n",
       "      <td>117</td>\n",
       "      <td>129</td>\n",
       "    </tr>\n",
       "    <tr>\n",
       "      <th>10885</th>\n",
       "      <td>2012-12-19 23:00:00</td>\n",
       "      <td>4</td>\n",
       "      <td>0</td>\n",
       "      <td>1</td>\n",
       "      <td>1</td>\n",
       "      <td>13.12</td>\n",
       "      <td>16.665</td>\n",
       "      <td>66</td>\n",
       "      <td>8.9981</td>\n",
       "      <td>4</td>\n",
       "      <td>84</td>\n",
       "      <td>88</td>\n",
       "    </tr>\n",
       "  </tbody>\n",
       "</table>\n",
       "<p>10886 rows × 12 columns</p>\n",
       "</div>"
      ],
      "text/plain": [
       "                  datetime  season  holiday  workingday  weather   temp  \\\n",
       "0      2011-01-01 00:00:00       1        0           0        1   9.84   \n",
       "1      2011-01-01 01:00:00       1        0           0        1   9.02   \n",
       "2      2011-01-01 02:00:00       1        0           0        1   9.02   \n",
       "3      2011-01-01 03:00:00       1        0           0        1   9.84   \n",
       "4      2011-01-01 04:00:00       1        0           0        1   9.84   \n",
       "...                    ...     ...      ...         ...      ...    ...   \n",
       "10881  2012-12-19 19:00:00       4        0           1        1  15.58   \n",
       "10882  2012-12-19 20:00:00       4        0           1        1  14.76   \n",
       "10883  2012-12-19 21:00:00       4        0           1        1  13.94   \n",
       "10884  2012-12-19 22:00:00       4        0           1        1  13.94   \n",
       "10885  2012-12-19 23:00:00       4        0           1        1  13.12   \n",
       "\n",
       "        atemp  humidity  windspeed  casual  registered  count  \n",
       "0      14.395        81     0.0000       3          13     16  \n",
       "1      13.635        80     0.0000       8          32     40  \n",
       "2      13.635        80     0.0000       5          27     32  \n",
       "3      14.395        75     0.0000       3          10     13  \n",
       "4      14.395        75     0.0000       0           1      1  \n",
       "...       ...       ...        ...     ...         ...    ...  \n",
       "10881  19.695        50    26.0027       7         329    336  \n",
       "10882  17.425        57    15.0013      10         231    241  \n",
       "10883  15.910        61    15.0013       4         164    168  \n",
       "10884  17.425        61     6.0032      12         117    129  \n",
       "10885  16.665        66     8.9981       4          84     88  \n",
       "\n",
       "[10886 rows x 12 columns]"
      ]
     },
     "execution_count": 19,
     "metadata": {},
     "output_type": "execute_result"
    }
   ],
   "source": [
    "df =  pd.read_csv(\"bike_sharing.csv\")\n",
    "df"
   ]
  },
  {
   "cell_type": "code",
   "execution_count": 7,
   "id": "690ab931",
   "metadata": {},
   "outputs": [
    {
     "data": {
      "text/html": [
       "<div>\n",
       "<style scoped>\n",
       "    .dataframe tbody tr th:only-of-type {\n",
       "        vertical-align: middle;\n",
       "    }\n",
       "\n",
       "    .dataframe tbody tr th {\n",
       "        vertical-align: top;\n",
       "    }\n",
       "\n",
       "    .dataframe thead th {\n",
       "        text-align: right;\n",
       "    }\n",
       "</style>\n",
       "<table border=\"1\" class=\"dataframe\">\n",
       "  <thead>\n",
       "    <tr style=\"text-align: right;\">\n",
       "      <th></th>\n",
       "      <th>datetime</th>\n",
       "      <th>season</th>\n",
       "      <th>holiday</th>\n",
       "      <th>workingday</th>\n",
       "      <th>weather</th>\n",
       "      <th>temp</th>\n",
       "      <th>atemp</th>\n",
       "      <th>humidity</th>\n",
       "      <th>windspeed</th>\n",
       "      <th>casual</th>\n",
       "      <th>registered</th>\n",
       "      <th>count</th>\n",
       "    </tr>\n",
       "  </thead>\n",
       "  <tbody>\n",
       "    <tr>\n",
       "      <th>0</th>\n",
       "      <td>2011-01-01 00:00:00</td>\n",
       "      <td>1</td>\n",
       "      <td>0</td>\n",
       "      <td>0</td>\n",
       "      <td>1</td>\n",
       "      <td>9.84</td>\n",
       "      <td>14.395</td>\n",
       "      <td>81</td>\n",
       "      <td>0.0000</td>\n",
       "      <td>3</td>\n",
       "      <td>13</td>\n",
       "      <td>16</td>\n",
       "    </tr>\n",
       "    <tr>\n",
       "      <th>1</th>\n",
       "      <td>2011-01-01 01:00:00</td>\n",
       "      <td>1</td>\n",
       "      <td>0</td>\n",
       "      <td>0</td>\n",
       "      <td>1</td>\n",
       "      <td>9.02</td>\n",
       "      <td>13.635</td>\n",
       "      <td>80</td>\n",
       "      <td>0.0000</td>\n",
       "      <td>8</td>\n",
       "      <td>32</td>\n",
       "      <td>40</td>\n",
       "    </tr>\n",
       "    <tr>\n",
       "      <th>2</th>\n",
       "      <td>2011-01-01 02:00:00</td>\n",
       "      <td>1</td>\n",
       "      <td>0</td>\n",
       "      <td>0</td>\n",
       "      <td>1</td>\n",
       "      <td>9.02</td>\n",
       "      <td>13.635</td>\n",
       "      <td>80</td>\n",
       "      <td>0.0000</td>\n",
       "      <td>5</td>\n",
       "      <td>27</td>\n",
       "      <td>32</td>\n",
       "    </tr>\n",
       "    <tr>\n",
       "      <th>3</th>\n",
       "      <td>2011-01-01 03:00:00</td>\n",
       "      <td>1</td>\n",
       "      <td>0</td>\n",
       "      <td>0</td>\n",
       "      <td>1</td>\n",
       "      <td>9.84</td>\n",
       "      <td>14.395</td>\n",
       "      <td>75</td>\n",
       "      <td>0.0000</td>\n",
       "      <td>3</td>\n",
       "      <td>10</td>\n",
       "      <td>13</td>\n",
       "    </tr>\n",
       "    <tr>\n",
       "      <th>4</th>\n",
       "      <td>2011-01-01 04:00:00</td>\n",
       "      <td>1</td>\n",
       "      <td>0</td>\n",
       "      <td>0</td>\n",
       "      <td>1</td>\n",
       "      <td>9.84</td>\n",
       "      <td>14.395</td>\n",
       "      <td>75</td>\n",
       "      <td>0.0000</td>\n",
       "      <td>0</td>\n",
       "      <td>1</td>\n",
       "      <td>1</td>\n",
       "    </tr>\n",
       "    <tr>\n",
       "      <th>5</th>\n",
       "      <td>2011-01-01 05:00:00</td>\n",
       "      <td>1</td>\n",
       "      <td>0</td>\n",
       "      <td>0</td>\n",
       "      <td>2</td>\n",
       "      <td>9.84</td>\n",
       "      <td>12.880</td>\n",
       "      <td>75</td>\n",
       "      <td>6.0032</td>\n",
       "      <td>0</td>\n",
       "      <td>1</td>\n",
       "      <td>1</td>\n",
       "    </tr>\n",
       "    <tr>\n",
       "      <th>6</th>\n",
       "      <td>2011-01-01 06:00:00</td>\n",
       "      <td>1</td>\n",
       "      <td>0</td>\n",
       "      <td>0</td>\n",
       "      <td>1</td>\n",
       "      <td>9.02</td>\n",
       "      <td>13.635</td>\n",
       "      <td>80</td>\n",
       "      <td>0.0000</td>\n",
       "      <td>2</td>\n",
       "      <td>0</td>\n",
       "      <td>2</td>\n",
       "    </tr>\n",
       "    <tr>\n",
       "      <th>7</th>\n",
       "      <td>2011-01-01 07:00:00</td>\n",
       "      <td>1</td>\n",
       "      <td>0</td>\n",
       "      <td>0</td>\n",
       "      <td>1</td>\n",
       "      <td>8.20</td>\n",
       "      <td>12.880</td>\n",
       "      <td>86</td>\n",
       "      <td>0.0000</td>\n",
       "      <td>1</td>\n",
       "      <td>2</td>\n",
       "      <td>3</td>\n",
       "    </tr>\n",
       "    <tr>\n",
       "      <th>8</th>\n",
       "      <td>2011-01-01 08:00:00</td>\n",
       "      <td>1</td>\n",
       "      <td>0</td>\n",
       "      <td>0</td>\n",
       "      <td>1</td>\n",
       "      <td>9.84</td>\n",
       "      <td>14.395</td>\n",
       "      <td>75</td>\n",
       "      <td>0.0000</td>\n",
       "      <td>1</td>\n",
       "      <td>7</td>\n",
       "      <td>8</td>\n",
       "    </tr>\n",
       "    <tr>\n",
       "      <th>9</th>\n",
       "      <td>2011-01-01 09:00:00</td>\n",
       "      <td>1</td>\n",
       "      <td>0</td>\n",
       "      <td>0</td>\n",
       "      <td>1</td>\n",
       "      <td>13.12</td>\n",
       "      <td>17.425</td>\n",
       "      <td>76</td>\n",
       "      <td>0.0000</td>\n",
       "      <td>8</td>\n",
       "      <td>6</td>\n",
       "      <td>14</td>\n",
       "    </tr>\n",
       "  </tbody>\n",
       "</table>\n",
       "</div>"
      ],
      "text/plain": [
       "              datetime  season  holiday  workingday  weather   temp   atemp  \\\n",
       "0  2011-01-01 00:00:00       1        0           0        1   9.84  14.395   \n",
       "1  2011-01-01 01:00:00       1        0           0        1   9.02  13.635   \n",
       "2  2011-01-01 02:00:00       1        0           0        1   9.02  13.635   \n",
       "3  2011-01-01 03:00:00       1        0           0        1   9.84  14.395   \n",
       "4  2011-01-01 04:00:00       1        0           0        1   9.84  14.395   \n",
       "5  2011-01-01 05:00:00       1        0           0        2   9.84  12.880   \n",
       "6  2011-01-01 06:00:00       1        0           0        1   9.02  13.635   \n",
       "7  2011-01-01 07:00:00       1        0           0        1   8.20  12.880   \n",
       "8  2011-01-01 08:00:00       1        0           0        1   9.84  14.395   \n",
       "9  2011-01-01 09:00:00       1        0           0        1  13.12  17.425   \n",
       "\n",
       "   humidity  windspeed  casual  registered  count  \n",
       "0        81     0.0000       3          13     16  \n",
       "1        80     0.0000       8          32     40  \n",
       "2        80     0.0000       5          27     32  \n",
       "3        75     0.0000       3          10     13  \n",
       "4        75     0.0000       0           1      1  \n",
       "5        75     6.0032       0           1      1  \n",
       "6        80     0.0000       2           0      2  \n",
       "7        86     0.0000       1           2      3  \n",
       "8        75     0.0000       1           7      8  \n",
       "9        76     0.0000       8           6     14  "
      ]
     },
     "execution_count": 7,
     "metadata": {},
     "output_type": "execute_result"
    }
   ],
   "source": [
    "df.head(10)"
   ]
  },
  {
   "cell_type": "code",
   "execution_count": 8,
   "id": "cc2b1898",
   "metadata": {},
   "outputs": [
    {
     "data": {
      "text/html": [
       "<div>\n",
       "<style scoped>\n",
       "    .dataframe tbody tr th:only-of-type {\n",
       "        vertical-align: middle;\n",
       "    }\n",
       "\n",
       "    .dataframe tbody tr th {\n",
       "        vertical-align: top;\n",
       "    }\n",
       "\n",
       "    .dataframe thead th {\n",
       "        text-align: right;\n",
       "    }\n",
       "</style>\n",
       "<table border=\"1\" class=\"dataframe\">\n",
       "  <thead>\n",
       "    <tr style=\"text-align: right;\">\n",
       "      <th></th>\n",
       "      <th>datetime</th>\n",
       "      <th>season</th>\n",
       "      <th>holiday</th>\n",
       "      <th>workingday</th>\n",
       "      <th>weather</th>\n",
       "      <th>temp</th>\n",
       "      <th>atemp</th>\n",
       "      <th>humidity</th>\n",
       "      <th>windspeed</th>\n",
       "      <th>casual</th>\n",
       "      <th>registered</th>\n",
       "      <th>count</th>\n",
       "    </tr>\n",
       "  </thead>\n",
       "  <tbody>\n",
       "    <tr>\n",
       "      <th>10876</th>\n",
       "      <td>2012-12-19 14:00:00</td>\n",
       "      <td>4</td>\n",
       "      <td>0</td>\n",
       "      <td>1</td>\n",
       "      <td>1</td>\n",
       "      <td>17.22</td>\n",
       "      <td>21.210</td>\n",
       "      <td>50</td>\n",
       "      <td>12.9980</td>\n",
       "      <td>33</td>\n",
       "      <td>185</td>\n",
       "      <td>218</td>\n",
       "    </tr>\n",
       "    <tr>\n",
       "      <th>10877</th>\n",
       "      <td>2012-12-19 15:00:00</td>\n",
       "      <td>4</td>\n",
       "      <td>0</td>\n",
       "      <td>1</td>\n",
       "      <td>1</td>\n",
       "      <td>17.22</td>\n",
       "      <td>21.210</td>\n",
       "      <td>50</td>\n",
       "      <td>19.0012</td>\n",
       "      <td>28</td>\n",
       "      <td>209</td>\n",
       "      <td>237</td>\n",
       "    </tr>\n",
       "    <tr>\n",
       "      <th>10878</th>\n",
       "      <td>2012-12-19 16:00:00</td>\n",
       "      <td>4</td>\n",
       "      <td>0</td>\n",
       "      <td>1</td>\n",
       "      <td>1</td>\n",
       "      <td>17.22</td>\n",
       "      <td>21.210</td>\n",
       "      <td>50</td>\n",
       "      <td>23.9994</td>\n",
       "      <td>37</td>\n",
       "      <td>297</td>\n",
       "      <td>334</td>\n",
       "    </tr>\n",
       "    <tr>\n",
       "      <th>10879</th>\n",
       "      <td>2012-12-19 17:00:00</td>\n",
       "      <td>4</td>\n",
       "      <td>0</td>\n",
       "      <td>1</td>\n",
       "      <td>1</td>\n",
       "      <td>16.40</td>\n",
       "      <td>20.455</td>\n",
       "      <td>50</td>\n",
       "      <td>26.0027</td>\n",
       "      <td>26</td>\n",
       "      <td>536</td>\n",
       "      <td>562</td>\n",
       "    </tr>\n",
       "    <tr>\n",
       "      <th>10880</th>\n",
       "      <td>2012-12-19 18:00:00</td>\n",
       "      <td>4</td>\n",
       "      <td>0</td>\n",
       "      <td>1</td>\n",
       "      <td>1</td>\n",
       "      <td>15.58</td>\n",
       "      <td>19.695</td>\n",
       "      <td>50</td>\n",
       "      <td>23.9994</td>\n",
       "      <td>23</td>\n",
       "      <td>546</td>\n",
       "      <td>569</td>\n",
       "    </tr>\n",
       "    <tr>\n",
       "      <th>10881</th>\n",
       "      <td>2012-12-19 19:00:00</td>\n",
       "      <td>4</td>\n",
       "      <td>0</td>\n",
       "      <td>1</td>\n",
       "      <td>1</td>\n",
       "      <td>15.58</td>\n",
       "      <td>19.695</td>\n",
       "      <td>50</td>\n",
       "      <td>26.0027</td>\n",
       "      <td>7</td>\n",
       "      <td>329</td>\n",
       "      <td>336</td>\n",
       "    </tr>\n",
       "    <tr>\n",
       "      <th>10882</th>\n",
       "      <td>2012-12-19 20:00:00</td>\n",
       "      <td>4</td>\n",
       "      <td>0</td>\n",
       "      <td>1</td>\n",
       "      <td>1</td>\n",
       "      <td>14.76</td>\n",
       "      <td>17.425</td>\n",
       "      <td>57</td>\n",
       "      <td>15.0013</td>\n",
       "      <td>10</td>\n",
       "      <td>231</td>\n",
       "      <td>241</td>\n",
       "    </tr>\n",
       "    <tr>\n",
       "      <th>10883</th>\n",
       "      <td>2012-12-19 21:00:00</td>\n",
       "      <td>4</td>\n",
       "      <td>0</td>\n",
       "      <td>1</td>\n",
       "      <td>1</td>\n",
       "      <td>13.94</td>\n",
       "      <td>15.910</td>\n",
       "      <td>61</td>\n",
       "      <td>15.0013</td>\n",
       "      <td>4</td>\n",
       "      <td>164</td>\n",
       "      <td>168</td>\n",
       "    </tr>\n",
       "    <tr>\n",
       "      <th>10884</th>\n",
       "      <td>2012-12-19 22:00:00</td>\n",
       "      <td>4</td>\n",
       "      <td>0</td>\n",
       "      <td>1</td>\n",
       "      <td>1</td>\n",
       "      <td>13.94</td>\n",
       "      <td>17.425</td>\n",
       "      <td>61</td>\n",
       "      <td>6.0032</td>\n",
       "      <td>12</td>\n",
       "      <td>117</td>\n",
       "      <td>129</td>\n",
       "    </tr>\n",
       "    <tr>\n",
       "      <th>10885</th>\n",
       "      <td>2012-12-19 23:00:00</td>\n",
       "      <td>4</td>\n",
       "      <td>0</td>\n",
       "      <td>1</td>\n",
       "      <td>1</td>\n",
       "      <td>13.12</td>\n",
       "      <td>16.665</td>\n",
       "      <td>66</td>\n",
       "      <td>8.9981</td>\n",
       "      <td>4</td>\n",
       "      <td>84</td>\n",
       "      <td>88</td>\n",
       "    </tr>\n",
       "  </tbody>\n",
       "</table>\n",
       "</div>"
      ],
      "text/plain": [
       "                  datetime  season  holiday  workingday  weather   temp  \\\n",
       "10876  2012-12-19 14:00:00       4        0           1        1  17.22   \n",
       "10877  2012-12-19 15:00:00       4        0           1        1  17.22   \n",
       "10878  2012-12-19 16:00:00       4        0           1        1  17.22   \n",
       "10879  2012-12-19 17:00:00       4        0           1        1  16.40   \n",
       "10880  2012-12-19 18:00:00       4        0           1        1  15.58   \n",
       "10881  2012-12-19 19:00:00       4        0           1        1  15.58   \n",
       "10882  2012-12-19 20:00:00       4        0           1        1  14.76   \n",
       "10883  2012-12-19 21:00:00       4        0           1        1  13.94   \n",
       "10884  2012-12-19 22:00:00       4        0           1        1  13.94   \n",
       "10885  2012-12-19 23:00:00       4        0           1        1  13.12   \n",
       "\n",
       "        atemp  humidity  windspeed  casual  registered  count  \n",
       "10876  21.210        50    12.9980      33         185    218  \n",
       "10877  21.210        50    19.0012      28         209    237  \n",
       "10878  21.210        50    23.9994      37         297    334  \n",
       "10879  20.455        50    26.0027      26         536    562  \n",
       "10880  19.695        50    23.9994      23         546    569  \n",
       "10881  19.695        50    26.0027       7         329    336  \n",
       "10882  17.425        57    15.0013      10         231    241  \n",
       "10883  15.910        61    15.0013       4         164    168  \n",
       "10884  17.425        61     6.0032      12         117    129  \n",
       "10885  16.665        66     8.9981       4          84     88  "
      ]
     },
     "execution_count": 8,
     "metadata": {},
     "output_type": "execute_result"
    }
   ],
   "source": [
    "df.tail(10)"
   ]
  },
  {
   "cell_type": "code",
   "execution_count": 9,
   "id": "d913f146",
   "metadata": {},
   "outputs": [
    {
     "data": {
      "text/plain": [
       "(10886, 12)"
      ]
     },
     "execution_count": 9,
     "metadata": {},
     "output_type": "execute_result"
    }
   ],
   "source": [
    "df.shape"
   ]
  },
  {
   "cell_type": "code",
   "execution_count": 10,
   "id": "ff98e4b9",
   "metadata": {},
   "outputs": [
    {
     "name": "stdout",
     "output_type": "stream",
     "text": [
      "<class 'pandas.core.frame.DataFrame'>\n",
      "RangeIndex: 10886 entries, 0 to 10885\n",
      "Data columns (total 12 columns):\n",
      " #   Column      Non-Null Count  Dtype  \n",
      "---  ------      --------------  -----  \n",
      " 0   datetime    10886 non-null  object \n",
      " 1   season      10886 non-null  int64  \n",
      " 2   holiday     10886 non-null  int64  \n",
      " 3   workingday  10886 non-null  int64  \n",
      " 4   weather     10886 non-null  int64  \n",
      " 5   temp        10886 non-null  float64\n",
      " 6   atemp       10886 non-null  float64\n",
      " 7   humidity    10886 non-null  int64  \n",
      " 8   windspeed   10886 non-null  float64\n",
      " 9   casual      10886 non-null  int64  \n",
      " 10  registered  10886 non-null  int64  \n",
      " 11  count       10886 non-null  int64  \n",
      "dtypes: float64(3), int64(8), object(1)\n",
      "memory usage: 1020.7+ KB\n"
     ]
    }
   ],
   "source": [
    "df.info()"
   ]
  },
  {
   "cell_type": "markdown",
   "id": "e92196a5",
   "metadata": {},
   "source": [
    "From the info we can infer the type of each column and also that are no null values present in the sample data which we are given."
   ]
  },
  {
   "cell_type": "code",
   "execution_count": 156,
   "id": "ccb43cd0",
   "metadata": {},
   "outputs": [
    {
     "data": {
      "text/html": [
       "<div>\n",
       "<style scoped>\n",
       "    .dataframe tbody tr th:only-of-type {\n",
       "        vertical-align: middle;\n",
       "    }\n",
       "\n",
       "    .dataframe tbody tr th {\n",
       "        vertical-align: top;\n",
       "    }\n",
       "\n",
       "    .dataframe thead th {\n",
       "        text-align: right;\n",
       "    }\n",
       "</style>\n",
       "<table border=\"1\" class=\"dataframe\">\n",
       "  <thead>\n",
       "    <tr style=\"text-align: right;\">\n",
       "      <th></th>\n",
       "      <th>temp</th>\n",
       "      <th>atemp</th>\n",
       "      <th>humidity</th>\n",
       "      <th>windspeed</th>\n",
       "      <th>casual</th>\n",
       "      <th>registered</th>\n",
       "      <th>count</th>\n",
       "    </tr>\n",
       "  </thead>\n",
       "  <tbody>\n",
       "    <tr>\n",
       "      <th>count</th>\n",
       "      <td>10886.00000</td>\n",
       "      <td>10886.000000</td>\n",
       "      <td>10886.000000</td>\n",
       "      <td>10886.000000</td>\n",
       "      <td>10886.000000</td>\n",
       "      <td>10886.000000</td>\n",
       "      <td>10886.000000</td>\n",
       "    </tr>\n",
       "    <tr>\n",
       "      <th>mean</th>\n",
       "      <td>20.23086</td>\n",
       "      <td>23.655084</td>\n",
       "      <td>61.886460</td>\n",
       "      <td>12.799395</td>\n",
       "      <td>36.021955</td>\n",
       "      <td>155.552177</td>\n",
       "      <td>191.574132</td>\n",
       "    </tr>\n",
       "    <tr>\n",
       "      <th>std</th>\n",
       "      <td>7.79159</td>\n",
       "      <td>8.474601</td>\n",
       "      <td>19.245033</td>\n",
       "      <td>8.164537</td>\n",
       "      <td>49.960477</td>\n",
       "      <td>151.039033</td>\n",
       "      <td>181.144454</td>\n",
       "    </tr>\n",
       "    <tr>\n",
       "      <th>min</th>\n",
       "      <td>0.82000</td>\n",
       "      <td>0.760000</td>\n",
       "      <td>0.000000</td>\n",
       "      <td>0.000000</td>\n",
       "      <td>0.000000</td>\n",
       "      <td>0.000000</td>\n",
       "      <td>1.000000</td>\n",
       "    </tr>\n",
       "    <tr>\n",
       "      <th>25%</th>\n",
       "      <td>13.94000</td>\n",
       "      <td>16.665000</td>\n",
       "      <td>47.000000</td>\n",
       "      <td>7.001500</td>\n",
       "      <td>4.000000</td>\n",
       "      <td>36.000000</td>\n",
       "      <td>42.000000</td>\n",
       "    </tr>\n",
       "    <tr>\n",
       "      <th>50%</th>\n",
       "      <td>20.50000</td>\n",
       "      <td>24.240000</td>\n",
       "      <td>62.000000</td>\n",
       "      <td>12.998000</td>\n",
       "      <td>17.000000</td>\n",
       "      <td>118.000000</td>\n",
       "      <td>145.000000</td>\n",
       "    </tr>\n",
       "    <tr>\n",
       "      <th>75%</th>\n",
       "      <td>26.24000</td>\n",
       "      <td>31.060000</td>\n",
       "      <td>77.000000</td>\n",
       "      <td>16.997900</td>\n",
       "      <td>49.000000</td>\n",
       "      <td>222.000000</td>\n",
       "      <td>284.000000</td>\n",
       "    </tr>\n",
       "    <tr>\n",
       "      <th>max</th>\n",
       "      <td>41.00000</td>\n",
       "      <td>45.455000</td>\n",
       "      <td>100.000000</td>\n",
       "      <td>56.996900</td>\n",
       "      <td>367.000000</td>\n",
       "      <td>886.000000</td>\n",
       "      <td>977.000000</td>\n",
       "    </tr>\n",
       "  </tbody>\n",
       "</table>\n",
       "</div>"
      ],
      "text/plain": [
       "              temp         atemp      humidity     windspeed        casual  \\\n",
       "count  10886.00000  10886.000000  10886.000000  10886.000000  10886.000000   \n",
       "mean      20.23086     23.655084     61.886460     12.799395     36.021955   \n",
       "std        7.79159      8.474601     19.245033      8.164537     49.960477   \n",
       "min        0.82000      0.760000      0.000000      0.000000      0.000000   \n",
       "25%       13.94000     16.665000     47.000000      7.001500      4.000000   \n",
       "50%       20.50000     24.240000     62.000000     12.998000     17.000000   \n",
       "75%       26.24000     31.060000     77.000000     16.997900     49.000000   \n",
       "max       41.00000     45.455000    100.000000     56.996900    367.000000   \n",
       "\n",
       "         registered         count  \n",
       "count  10886.000000  10886.000000  \n",
       "mean     155.552177    191.574132  \n",
       "std      151.039033    181.144454  \n",
       "min        0.000000      1.000000  \n",
       "25%       36.000000     42.000000  \n",
       "50%      118.000000    145.000000  \n",
       "75%      222.000000    284.000000  \n",
       "max      886.000000    977.000000  "
      ]
     },
     "execution_count": 156,
     "metadata": {},
     "output_type": "execute_result"
    }
   ],
   "source": [
    "df.describe()"
   ]
  },
  {
   "cell_type": "markdown",
   "id": "502e2337",
   "metadata": {},
   "source": [
    "since using describe we observe that the mean and median of the count variable are not same i.e the distribution is not symmetrical for overall count. "
   ]
  },
  {
   "cell_type": "code",
   "execution_count": 20,
   "id": "da74156a",
   "metadata": {},
   "outputs": [
    {
     "data": {
      "text/html": [
       "<div>\n",
       "<style scoped>\n",
       "    .dataframe tbody tr th:only-of-type {\n",
       "        vertical-align: middle;\n",
       "    }\n",
       "\n",
       "    .dataframe tbody tr th {\n",
       "        vertical-align: top;\n",
       "    }\n",
       "\n",
       "    .dataframe thead th {\n",
       "        text-align: right;\n",
       "    }\n",
       "</style>\n",
       "<table border=\"1\" class=\"dataframe\">\n",
       "  <thead>\n",
       "    <tr style=\"text-align: right;\">\n",
       "      <th></th>\n",
       "      <th>datetime</th>\n",
       "      <th>season</th>\n",
       "      <th>holiday</th>\n",
       "      <th>workingday</th>\n",
       "      <th>weather</th>\n",
       "      <th>temp</th>\n",
       "      <th>atemp</th>\n",
       "      <th>humidity</th>\n",
       "      <th>windspeed</th>\n",
       "      <th>casual</th>\n",
       "      <th>registered</th>\n",
       "      <th>count</th>\n",
       "    </tr>\n",
       "  </thead>\n",
       "  <tbody>\n",
       "    <tr>\n",
       "      <th>0</th>\n",
       "      <td>2011-01-01 00:00:00</td>\n",
       "      <td>1</td>\n",
       "      <td>0</td>\n",
       "      <td>0</td>\n",
       "      <td>1</td>\n",
       "      <td>9.84</td>\n",
       "      <td>14.395</td>\n",
       "      <td>81</td>\n",
       "      <td>0.0</td>\n",
       "      <td>3</td>\n",
       "      <td>13</td>\n",
       "      <td>16</td>\n",
       "    </tr>\n",
       "    <tr>\n",
       "      <th>1</th>\n",
       "      <td>2011-01-01 01:00:00</td>\n",
       "      <td>1</td>\n",
       "      <td>0</td>\n",
       "      <td>0</td>\n",
       "      <td>1</td>\n",
       "      <td>9.02</td>\n",
       "      <td>13.635</td>\n",
       "      <td>80</td>\n",
       "      <td>0.0</td>\n",
       "      <td>8</td>\n",
       "      <td>32</td>\n",
       "      <td>40</td>\n",
       "    </tr>\n",
       "    <tr>\n",
       "      <th>2</th>\n",
       "      <td>2011-01-01 02:00:00</td>\n",
       "      <td>1</td>\n",
       "      <td>0</td>\n",
       "      <td>0</td>\n",
       "      <td>1</td>\n",
       "      <td>9.02</td>\n",
       "      <td>13.635</td>\n",
       "      <td>80</td>\n",
       "      <td>0.0</td>\n",
       "      <td>5</td>\n",
       "      <td>27</td>\n",
       "      <td>32</td>\n",
       "    </tr>\n",
       "    <tr>\n",
       "      <th>3</th>\n",
       "      <td>2011-01-01 03:00:00</td>\n",
       "      <td>1</td>\n",
       "      <td>0</td>\n",
       "      <td>0</td>\n",
       "      <td>1</td>\n",
       "      <td>9.84</td>\n",
       "      <td>14.395</td>\n",
       "      <td>75</td>\n",
       "      <td>0.0</td>\n",
       "      <td>3</td>\n",
       "      <td>10</td>\n",
       "      <td>13</td>\n",
       "    </tr>\n",
       "    <tr>\n",
       "      <th>4</th>\n",
       "      <td>2011-01-01 04:00:00</td>\n",
       "      <td>1</td>\n",
       "      <td>0</td>\n",
       "      <td>0</td>\n",
       "      <td>1</td>\n",
       "      <td>9.84</td>\n",
       "      <td>14.395</td>\n",
       "      <td>75</td>\n",
       "      <td>0.0</td>\n",
       "      <td>0</td>\n",
       "      <td>1</td>\n",
       "      <td>1</td>\n",
       "    </tr>\n",
       "  </tbody>\n",
       "</table>\n",
       "</div>"
      ],
      "text/plain": [
       "             datetime  season  holiday  workingday  weather  temp   atemp  \\\n",
       "0 2011-01-01 00:00:00       1        0           0        1  9.84  14.395   \n",
       "1 2011-01-01 01:00:00       1        0           0        1  9.02  13.635   \n",
       "2 2011-01-01 02:00:00       1        0           0        1  9.02  13.635   \n",
       "3 2011-01-01 03:00:00       1        0           0        1  9.84  14.395   \n",
       "4 2011-01-01 04:00:00       1        0           0        1  9.84  14.395   \n",
       "\n",
       "   humidity  windspeed  casual  registered  count  \n",
       "0        81        0.0       3          13     16  \n",
       "1        80        0.0       8          32     40  \n",
       "2        80        0.0       5          27     32  \n",
       "3        75        0.0       3          10     13  \n",
       "4        75        0.0       0           1      1  "
      ]
     },
     "execution_count": 20,
     "metadata": {},
     "output_type": "execute_result"
    }
   ],
   "source": [
    "df['datetime'] = pd.to_datetime(df['datetime'])\n",
    "df.head()"
   ]
  },
  {
   "cell_type": "code",
   "execution_count": 21,
   "id": "42466dbd",
   "metadata": {},
   "outputs": [],
   "source": [
    "df = df.astype({'season':'category','holiday':'category','workingday':'category','weather':'category'})"
   ]
  },
  {
   "cell_type": "code",
   "execution_count": 22,
   "id": "3e541579",
   "metadata": {},
   "outputs": [
    {
     "name": "stdout",
     "output_type": "stream",
     "text": [
      "<class 'pandas.core.frame.DataFrame'>\n",
      "RangeIndex: 10886 entries, 0 to 10885\n",
      "Data columns (total 12 columns):\n",
      " #   Column      Non-Null Count  Dtype         \n",
      "---  ------      --------------  -----         \n",
      " 0   datetime    10886 non-null  datetime64[ns]\n",
      " 1   season      10886 non-null  category      \n",
      " 2   holiday     10886 non-null  category      \n",
      " 3   workingday  10886 non-null  category      \n",
      " 4   weather     10886 non-null  category      \n",
      " 5   temp        10886 non-null  float64       \n",
      " 6   atemp       10886 non-null  float64       \n",
      " 7   humidity    10886 non-null  int64         \n",
      " 8   windspeed   10886 non-null  float64       \n",
      " 9   casual      10886 non-null  int64         \n",
      " 10  registered  10886 non-null  int64         \n",
      " 11  count       10886 non-null  int64         \n",
      "dtypes: category(4), datetime64[ns](1), float64(3), int64(4)\n",
      "memory usage: 723.7 KB\n"
     ]
    }
   ],
   "source": [
    "df.info()"
   ]
  },
  {
   "cell_type": "code",
   "execution_count": 23,
   "id": "6939e2c1",
   "metadata": {},
   "outputs": [
    {
     "data": {
      "text/html": [
       "<div>\n",
       "<style scoped>\n",
       "    .dataframe tbody tr th:only-of-type {\n",
       "        vertical-align: middle;\n",
       "    }\n",
       "\n",
       "    .dataframe tbody tr th {\n",
       "        vertical-align: top;\n",
       "    }\n",
       "\n",
       "    .dataframe thead th {\n",
       "        text-align: right;\n",
       "    }\n",
       "</style>\n",
       "<table border=\"1\" class=\"dataframe\">\n",
       "  <thead>\n",
       "    <tr style=\"text-align: right;\">\n",
       "      <th></th>\n",
       "      <th>datetime</th>\n",
       "      <th>season</th>\n",
       "      <th>holiday</th>\n",
       "      <th>workingday</th>\n",
       "      <th>weather</th>\n",
       "      <th>temp</th>\n",
       "      <th>atemp</th>\n",
       "      <th>humidity</th>\n",
       "      <th>windspeed</th>\n",
       "      <th>casual</th>\n",
       "      <th>registered</th>\n",
       "      <th>count</th>\n",
       "      <th>date</th>\n",
       "    </tr>\n",
       "  </thead>\n",
       "  <tbody>\n",
       "    <tr>\n",
       "      <th>0</th>\n",
       "      <td>2011-01-01 00:00:00</td>\n",
       "      <td>1</td>\n",
       "      <td>0</td>\n",
       "      <td>0</td>\n",
       "      <td>1</td>\n",
       "      <td>9.84</td>\n",
       "      <td>14.395</td>\n",
       "      <td>81</td>\n",
       "      <td>0.0</td>\n",
       "      <td>3</td>\n",
       "      <td>13</td>\n",
       "      <td>16</td>\n",
       "      <td>2011-01-01</td>\n",
       "    </tr>\n",
       "    <tr>\n",
       "      <th>1</th>\n",
       "      <td>2011-01-01 01:00:00</td>\n",
       "      <td>1</td>\n",
       "      <td>0</td>\n",
       "      <td>0</td>\n",
       "      <td>1</td>\n",
       "      <td>9.02</td>\n",
       "      <td>13.635</td>\n",
       "      <td>80</td>\n",
       "      <td>0.0</td>\n",
       "      <td>8</td>\n",
       "      <td>32</td>\n",
       "      <td>40</td>\n",
       "      <td>2011-01-01</td>\n",
       "    </tr>\n",
       "    <tr>\n",
       "      <th>2</th>\n",
       "      <td>2011-01-01 02:00:00</td>\n",
       "      <td>1</td>\n",
       "      <td>0</td>\n",
       "      <td>0</td>\n",
       "      <td>1</td>\n",
       "      <td>9.02</td>\n",
       "      <td>13.635</td>\n",
       "      <td>80</td>\n",
       "      <td>0.0</td>\n",
       "      <td>5</td>\n",
       "      <td>27</td>\n",
       "      <td>32</td>\n",
       "      <td>2011-01-01</td>\n",
       "    </tr>\n",
       "    <tr>\n",
       "      <th>3</th>\n",
       "      <td>2011-01-01 03:00:00</td>\n",
       "      <td>1</td>\n",
       "      <td>0</td>\n",
       "      <td>0</td>\n",
       "      <td>1</td>\n",
       "      <td>9.84</td>\n",
       "      <td>14.395</td>\n",
       "      <td>75</td>\n",
       "      <td>0.0</td>\n",
       "      <td>3</td>\n",
       "      <td>10</td>\n",
       "      <td>13</td>\n",
       "      <td>2011-01-01</td>\n",
       "    </tr>\n",
       "    <tr>\n",
       "      <th>4</th>\n",
       "      <td>2011-01-01 04:00:00</td>\n",
       "      <td>1</td>\n",
       "      <td>0</td>\n",
       "      <td>0</td>\n",
       "      <td>1</td>\n",
       "      <td>9.84</td>\n",
       "      <td>14.395</td>\n",
       "      <td>75</td>\n",
       "      <td>0.0</td>\n",
       "      <td>0</td>\n",
       "      <td>1</td>\n",
       "      <td>1</td>\n",
       "      <td>2011-01-01</td>\n",
       "    </tr>\n",
       "  </tbody>\n",
       "</table>\n",
       "</div>"
      ],
      "text/plain": [
       "             datetime season holiday workingday weather  temp   atemp  \\\n",
       "0 2011-01-01 00:00:00      1       0          0       1  9.84  14.395   \n",
       "1 2011-01-01 01:00:00      1       0          0       1  9.02  13.635   \n",
       "2 2011-01-01 02:00:00      1       0          0       1  9.02  13.635   \n",
       "3 2011-01-01 03:00:00      1       0          0       1  9.84  14.395   \n",
       "4 2011-01-01 04:00:00      1       0          0       1  9.84  14.395   \n",
       "\n",
       "   humidity  windspeed  casual  registered  count        date  \n",
       "0        81        0.0       3          13     16  2011-01-01  \n",
       "1        80        0.0       8          32     40  2011-01-01  \n",
       "2        80        0.0       5          27     32  2011-01-01  \n",
       "3        75        0.0       3          10     13  2011-01-01  \n",
       "4        75        0.0       0           1      1  2011-01-01  "
      ]
     },
     "execution_count": 23,
     "metadata": {},
     "output_type": "execute_result"
    }
   ],
   "source": [
    "df['date'] = df['datetime'].dt.date\n",
    "df.head()"
   ]
  },
  {
   "cell_type": "code",
   "execution_count": 32,
   "id": "2bc00a2a",
   "metadata": {},
   "outputs": [
    {
     "data": {
      "text/html": [
       "<div>\n",
       "<style scoped>\n",
       "    .dataframe tbody tr th:only-of-type {\n",
       "        vertical-align: middle;\n",
       "    }\n",
       "\n",
       "    .dataframe tbody tr th {\n",
       "        vertical-align: top;\n",
       "    }\n",
       "\n",
       "    .dataframe thead th {\n",
       "        text-align: right;\n",
       "    }\n",
       "</style>\n",
       "<table border=\"1\" class=\"dataframe\">\n",
       "  <thead>\n",
       "    <tr style=\"text-align: right;\">\n",
       "      <th></th>\n",
       "      <th>casual</th>\n",
       "      <th>registered</th>\n",
       "      <th>count</th>\n",
       "    </tr>\n",
       "    <tr>\n",
       "      <th>date</th>\n",
       "      <th></th>\n",
       "      <th></th>\n",
       "      <th></th>\n",
       "    </tr>\n",
       "  </thead>\n",
       "  <tbody>\n",
       "    <tr>\n",
       "      <th>2011-01-01</th>\n",
       "      <td>331</td>\n",
       "      <td>654</td>\n",
       "      <td>985</td>\n",
       "    </tr>\n",
       "    <tr>\n",
       "      <th>2011-01-02</th>\n",
       "      <td>131</td>\n",
       "      <td>670</td>\n",
       "      <td>801</td>\n",
       "    </tr>\n",
       "    <tr>\n",
       "      <th>2011-01-03</th>\n",
       "      <td>120</td>\n",
       "      <td>1229</td>\n",
       "      <td>1349</td>\n",
       "    </tr>\n",
       "    <tr>\n",
       "      <th>2011-01-04</th>\n",
       "      <td>108</td>\n",
       "      <td>1454</td>\n",
       "      <td>1562</td>\n",
       "    </tr>\n",
       "    <tr>\n",
       "      <th>2011-01-05</th>\n",
       "      <td>82</td>\n",
       "      <td>1518</td>\n",
       "      <td>1600</td>\n",
       "    </tr>\n",
       "    <tr>\n",
       "      <th>...</th>\n",
       "      <td>...</td>\n",
       "      <td>...</td>\n",
       "      <td>...</td>\n",
       "    </tr>\n",
       "    <tr>\n",
       "      <th>2012-12-15</th>\n",
       "      <td>767</td>\n",
       "      <td>4280</td>\n",
       "      <td>5047</td>\n",
       "    </tr>\n",
       "    <tr>\n",
       "      <th>2012-12-16</th>\n",
       "      <td>538</td>\n",
       "      <td>3248</td>\n",
       "      <td>3786</td>\n",
       "    </tr>\n",
       "    <tr>\n",
       "      <th>2012-12-17</th>\n",
       "      <td>212</td>\n",
       "      <td>4373</td>\n",
       "      <td>4585</td>\n",
       "    </tr>\n",
       "    <tr>\n",
       "      <th>2012-12-18</th>\n",
       "      <td>433</td>\n",
       "      <td>5124</td>\n",
       "      <td>5557</td>\n",
       "    </tr>\n",
       "    <tr>\n",
       "      <th>2012-12-19</th>\n",
       "      <td>333</td>\n",
       "      <td>4934</td>\n",
       "      <td>5267</td>\n",
       "    </tr>\n",
       "  </tbody>\n",
       "</table>\n",
       "<p>456 rows × 3 columns</p>\n",
       "</div>"
      ],
      "text/plain": [
       "            casual  registered  count\n",
       "date                                 \n",
       "2011-01-01     331         654    985\n",
       "2011-01-02     131         670    801\n",
       "2011-01-03     120        1229   1349\n",
       "2011-01-04     108        1454   1562\n",
       "2011-01-05      82        1518   1600\n",
       "...            ...         ...    ...\n",
       "2012-12-15     767        4280   5047\n",
       "2012-12-16     538        3248   3786\n",
       "2012-12-17     212        4373   4585\n",
       "2012-12-18     433        5124   5557\n",
       "2012-12-19     333        4934   5267\n",
       "\n",
       "[456 rows x 3 columns]"
      ]
     },
     "execution_count": 32,
     "metadata": {},
     "output_type": "execute_result"
    }
   ],
   "source": [
    "df1 = df.groupby('date')[['casual','registered','count']].sum()\n",
    "df1"
   ]
  },
  {
   "cell_type": "code",
   "execution_count": 33,
   "id": "93d41309",
   "metadata": {},
   "outputs": [
    {
     "data": {
      "text/plain": [
       "4573.412280701755"
      ]
     },
     "execution_count": 33,
     "metadata": {},
     "output_type": "execute_result"
    }
   ],
   "source": [
    "df1['count'].mean()"
   ]
  },
  {
   "cell_type": "code",
   "execution_count": 30,
   "id": "df65d41b",
   "metadata": {},
   "outputs": [
    {
     "name": "stderr",
     "output_type": "stream",
     "text": [
      "C:\\Users\\Ecstasy1\\AppData\\Local\\Programs\\Python\\Python310\\lib\\site-packages\\seaborn\\distributions.py:2619: FutureWarning: `distplot` is a deprecated function and will be removed in a future version. Please adapt your code to use either `displot` (a figure-level function with similar flexibility) or `histplot` (an axes-level function for histograms).\n",
      "  warnings.warn(msg, FutureWarning)\n"
     ]
    },
    {
     "data": {
      "text/plain": [
       "<AxesSubplot:ylabel='Density'>"
      ]
     },
     "execution_count": 30,
     "metadata": {},
     "output_type": "execute_result"
    },
    {
     "data": {
      "image/png": "[encoded data removed]",
      "text/plain": [
       "<Figure size 432x288 with 1 Axes>"
      ]
     },
     "metadata": {
      "needs_background": "light"
     },
     "output_type": "display_data"
    }
   ],
   "source": [
    "sns.distplot(x = df1['count'])"
   ]
  },
  {
   "cell_type": "markdown",
   "id": "22e619da",
   "metadata": {},
   "source": [
    "The displot shows that the chance of the total count of cycle users per day are highest in range (3000,6000) with mean being at 4573. "
   ]
  },
  {
   "cell_type": "code",
   "execution_count": 39,
   "id": "051510c2",
   "metadata": {},
   "outputs": [
    {
     "data": {
      "text/plain": [
       "<AxesSubplot:xlabel='count'>"
      ]
     },
     "execution_count": 39,
     "metadata": {},
     "output_type": "execute_result"
    },
    {
     "data": {
      "image/png": "[encoded data removed]",
      "text/plain": [
       "<Figure size 432x288 with 1 Axes>"
      ]
     },
     "metadata": {
      "needs_background": "light"
     },
     "output_type": "display_data"
    }
   ],
   "source": [
    "sns.boxplot(x='count',data=df1)"
   ]
  },
  {
   "cell_type": "markdown",
   "id": "be58805a",
   "metadata": {},
   "source": [
    "No outliers detected for the total count based on day wise boxplot."
   ]
  },
  {
   "cell_type": "code",
   "execution_count": 157,
   "id": "33fa7a10",
   "metadata": {},
   "outputs": [
    {
     "data": {
      "text/plain": [
       "<AxesSubplot:ylabel='Density'>"
      ]
     },
     "execution_count": 157,
     "metadata": {},
     "output_type": "execute_result"
    },
    {
     "data": {
      "image/png": "[encoded data removed]",
      "text/plain": [
       "<Figure size 432x288 with 1 Axes>"
      ]
     },
     "metadata": {
      "needs_background": "light"
     },
     "output_type": "display_data"
    }
   ],
   "source": [
    "df['temp'].plot(kind='kde')"
   ]
  },
  {
   "cell_type": "markdown",
   "id": "3a88c946",
   "metadata": {},
   "source": [
    "The plot seems to have random distribution and not of any special type."
   ]
  },
  {
   "cell_type": "code",
   "execution_count": 158,
   "id": "dd134a39",
   "metadata": {},
   "outputs": [
    {
     "data": {
      "text/plain": [
       "<AxesSubplot:ylabel='Density'>"
      ]
     },
     "execution_count": 158,
     "metadata": {},
     "output_type": "execute_result"
    },
    {
     "data": {
      "image/png": "[encoded data removed]",
      "text/plain": [
       "<Figure size 432x288 with 1 Axes>"
      ]
     },
     "metadata": {
      "needs_background": "light"
     },
     "output_type": "display_data"
    }
   ],
   "source": [
    "df['humidity'].plot(kind='kde')"
   ]
  },
  {
   "cell_type": "markdown",
   "id": "4b7431e7",
   "metadata": {},
   "source": [
    "The distribution may be normal for the humidity sample data but can't say surely by kde plot"
   ]
  },
  {
   "cell_type": "code",
   "execution_count": 159,
   "id": "76d27908",
   "metadata": {},
   "outputs": [
    {
     "data": {
      "text/plain": [
       "<AxesSubplot:ylabel='Density'>"
      ]
     },
     "execution_count": 159,
     "metadata": {},
     "output_type": "execute_result"
    },
    {
     "data": {
      "image/png": "[encoded data removed]",
      "text/plain": [
       "<Figure size 432x288 with 1 Axes>"
      ]
     },
     "metadata": {
      "needs_background": "light"
     },
     "output_type": "display_data"
    }
   ],
   "source": [
    "df['casual'].plot(kind='kde')"
   ]
  },
  {
   "cell_type": "markdown",
   "id": "6a54f77a",
   "metadata": {},
   "source": [
    "The plot looks skewed but sort of normal type distribution can't just by seeing the plot."
   ]
  },
  {
   "cell_type": "code",
   "execution_count": 163,
   "id": "41304736",
   "metadata": {},
   "outputs": [
    {
     "data": {
      "text/plain": [
       "<AxesSubplot:xlabel='casual'>"
      ]
     },
     "execution_count": 163,
     "metadata": {},
     "output_type": "execute_result"
    },
    {
     "data": {
      "image/png": "[encoded data removed]",
      "text/plain": [
       "<Figure size 432x288 with 1 Axes>"
      ]
     },
     "metadata": {
      "needs_background": "light"
     },
     "output_type": "display_data"
    }
   ],
   "source": [
    "sns.boxplot(x='casual',data=df)"
   ]
  },
  {
   "cell_type": "markdown",
   "id": "5582c9e6",
   "metadata": {},
   "source": [
    "There are many outliers but mainly the outliers can be considered here in this case above 350 ones for the no. of casual users per hour."
   ]
  },
  {
   "cell_type": "code",
   "execution_count": 160,
   "id": "30a35252",
   "metadata": {},
   "outputs": [
    {
     "data": {
      "text/plain": [
       "<AxesSubplot:ylabel='Density'>"
      ]
     },
     "execution_count": 160,
     "metadata": {},
     "output_type": "execute_result"
    },
    {
     "data": {
      "image/png": "[encoded data removed]",
      "text/plain": [
       "<Figure size 432x288 with 1 Axes>"
      ]
     },
     "metadata": {
      "needs_background": "light"
     },
     "output_type": "display_data"
    }
   ],
   "source": [
    "df['registered'].plot(kind='kde')"
   ]
  },
  {
   "cell_type": "markdown",
   "id": "f694d463",
   "metadata": {},
   "source": [
    "This plot also looks skewed but sort of normal type distribution can't just by seeing the plot."
   ]
  },
  {
   "cell_type": "code",
   "execution_count": 166,
   "id": "ef344a86",
   "metadata": {},
   "outputs": [
    {
     "data": {
      "text/plain": [
       "<AxesSubplot:xlabel='registered'>"
      ]
     },
     "execution_count": 166,
     "metadata": {},
     "output_type": "execute_result"
    },
    {
     "data": {
      "image/png": "[encoded data removed]",
      "text/plain": [
       "<Figure size 432x288 with 1 Axes>"
      ]
     },
     "metadata": {
      "needs_background": "light"
     },
     "output_type": "display_data"
    }
   ],
   "source": [
    "sns.boxplot(x='registered',data=df)"
   ]
  },
  {
   "cell_type": "markdown",
   "id": "c37c2277",
   "metadata": {},
   "source": [
    "There are many outliers but mainly the outliers can be considered here in this case above 800 ones for the no. of registered users per hour."
   ]
  },
  {
   "cell_type": "code",
   "execution_count": 43,
   "id": "2040f0a0",
   "metadata": {},
   "outputs": [
    {
     "data": {
      "text/html": [
       "<div>\n",
       "<style scoped>\n",
       "    .dataframe tbody tr th:only-of-type {\n",
       "        vertical-align: middle;\n",
       "    }\n",
       "\n",
       "    .dataframe tbody tr th {\n",
       "        vertical-align: top;\n",
       "    }\n",
       "\n",
       "    .dataframe thead th {\n",
       "        text-align: right;\n",
       "    }\n",
       "</style>\n",
       "<table border=\"1\" class=\"dataframe\">\n",
       "  <thead>\n",
       "    <tr style=\"text-align: right;\">\n",
       "      <th></th>\n",
       "      <th>datetime</th>\n",
       "      <th>season</th>\n",
       "      <th>holiday</th>\n",
       "      <th>workingday</th>\n",
       "      <th>weather</th>\n",
       "      <th>temp</th>\n",
       "      <th>atemp</th>\n",
       "      <th>humidity</th>\n",
       "      <th>windspeed</th>\n",
       "      <th>casual</th>\n",
       "      <th>registered</th>\n",
       "      <th>count</th>\n",
       "      <th>date</th>\n",
       "    </tr>\n",
       "  </thead>\n",
       "  <tbody>\n",
       "    <tr>\n",
       "      <th>0</th>\n",
       "      <td>2011-01-01 00:00:00</td>\n",
       "      <td>1</td>\n",
       "      <td>0</td>\n",
       "      <td>0</td>\n",
       "      <td>1</td>\n",
       "      <td>9.84</td>\n",
       "      <td>14.395</td>\n",
       "      <td>81</td>\n",
       "      <td>0.0</td>\n",
       "      <td>3</td>\n",
       "      <td>13</td>\n",
       "      <td>16</td>\n",
       "      <td>2011-01-01</td>\n",
       "    </tr>\n",
       "    <tr>\n",
       "      <th>1</th>\n",
       "      <td>2011-01-01 01:00:00</td>\n",
       "      <td>1</td>\n",
       "      <td>0</td>\n",
       "      <td>0</td>\n",
       "      <td>1</td>\n",
       "      <td>9.02</td>\n",
       "      <td>13.635</td>\n",
       "      <td>80</td>\n",
       "      <td>0.0</td>\n",
       "      <td>8</td>\n",
       "      <td>32</td>\n",
       "      <td>40</td>\n",
       "      <td>2011-01-01</td>\n",
       "    </tr>\n",
       "    <tr>\n",
       "      <th>2</th>\n",
       "      <td>2011-01-01 02:00:00</td>\n",
       "      <td>1</td>\n",
       "      <td>0</td>\n",
       "      <td>0</td>\n",
       "      <td>1</td>\n",
       "      <td>9.02</td>\n",
       "      <td>13.635</td>\n",
       "      <td>80</td>\n",
       "      <td>0.0</td>\n",
       "      <td>5</td>\n",
       "      <td>27</td>\n",
       "      <td>32</td>\n",
       "      <td>2011-01-01</td>\n",
       "    </tr>\n",
       "    <tr>\n",
       "      <th>3</th>\n",
       "      <td>2011-01-01 03:00:00</td>\n",
       "      <td>1</td>\n",
       "      <td>0</td>\n",
       "      <td>0</td>\n",
       "      <td>1</td>\n",
       "      <td>9.84</td>\n",
       "      <td>14.395</td>\n",
       "      <td>75</td>\n",
       "      <td>0.0</td>\n",
       "      <td>3</td>\n",
       "      <td>10</td>\n",
       "      <td>13</td>\n",
       "      <td>2011-01-01</td>\n",
       "    </tr>\n",
       "    <tr>\n",
       "      <th>4</th>\n",
       "      <td>2011-01-01 04:00:00</td>\n",
       "      <td>1</td>\n",
       "      <td>0</td>\n",
       "      <td>0</td>\n",
       "      <td>1</td>\n",
       "      <td>9.84</td>\n",
       "      <td>14.395</td>\n",
       "      <td>75</td>\n",
       "      <td>0.0</td>\n",
       "      <td>0</td>\n",
       "      <td>1</td>\n",
       "      <td>1</td>\n",
       "      <td>2011-01-01</td>\n",
       "    </tr>\n",
       "  </tbody>\n",
       "</table>\n",
       "</div>"
      ],
      "text/plain": [
       "             datetime season holiday workingday weather  temp   atemp  \\\n",
       "0 2011-01-01 00:00:00      1       0          0       1  9.84  14.395   \n",
       "1 2011-01-01 01:00:00      1       0          0       1  9.02  13.635   \n",
       "2 2011-01-01 02:00:00      1       0          0       1  9.02  13.635   \n",
       "3 2011-01-01 03:00:00      1       0          0       1  9.84  14.395   \n",
       "4 2011-01-01 04:00:00      1       0          0       1  9.84  14.395   \n",
       "\n",
       "   humidity  windspeed  casual  registered  count        date  \n",
       "0        81        0.0       3          13     16  2011-01-01  \n",
       "1        80        0.0       8          32     40  2011-01-01  \n",
       "2        80        0.0       5          27     32  2011-01-01  \n",
       "3        75        0.0       3          10     13  2011-01-01  \n",
       "4        75        0.0       0           1      1  2011-01-01  "
      ]
     },
     "execution_count": 43,
     "metadata": {},
     "output_type": "execute_result"
    }
   ],
   "source": [
    "df.head()"
   ]
  },
  {
   "cell_type": "code",
   "execution_count": 51,
   "id": "f9eabc21",
   "metadata": {},
   "outputs": [
    {
     "data": {
      "text/html": [
       "<div>\n",
       "<style scoped>\n",
       "    .dataframe tbody tr th:only-of-type {\n",
       "        vertical-align: middle;\n",
       "    }\n",
       "\n",
       "    .dataframe tbody tr th {\n",
       "        vertical-align: top;\n",
       "    }\n",
       "\n",
       "    .dataframe thead th {\n",
       "        text-align: right;\n",
       "    }\n",
       "</style>\n",
       "<table border=\"1\" class=\"dataframe\">\n",
       "  <thead>\n",
       "    <tr style=\"text-align: right;\">\n",
       "      <th></th>\n",
       "      <th>season</th>\n",
       "      <th>holiday</th>\n",
       "      <th>workingday</th>\n",
       "      <th>weather</th>\n",
       "      <th>temp</th>\n",
       "      <th>atemp</th>\n",
       "      <th>humidity</th>\n",
       "      <th>windspeed</th>\n",
       "      <th>casual</th>\n",
       "      <th>registered</th>\n",
       "      <th>count</th>\n",
       "      <th>date</th>\n",
       "    </tr>\n",
       "  </thead>\n",
       "  <tbody>\n",
       "    <tr>\n",
       "      <th>0</th>\n",
       "      <td>1</td>\n",
       "      <td>0</td>\n",
       "      <td>0</td>\n",
       "      <td>1</td>\n",
       "      <td>9.84</td>\n",
       "      <td>14.395</td>\n",
       "      <td>81</td>\n",
       "      <td>0.0</td>\n",
       "      <td>3</td>\n",
       "      <td>13</td>\n",
       "      <td>16</td>\n",
       "      <td>2011-01-01</td>\n",
       "    </tr>\n",
       "    <tr>\n",
       "      <th>1</th>\n",
       "      <td>1</td>\n",
       "      <td>0</td>\n",
       "      <td>0</td>\n",
       "      <td>1</td>\n",
       "      <td>9.02</td>\n",
       "      <td>13.635</td>\n",
       "      <td>80</td>\n",
       "      <td>0.0</td>\n",
       "      <td>8</td>\n",
       "      <td>32</td>\n",
       "      <td>40</td>\n",
       "      <td>2011-01-01</td>\n",
       "    </tr>\n",
       "    <tr>\n",
       "      <th>2</th>\n",
       "      <td>1</td>\n",
       "      <td>0</td>\n",
       "      <td>0</td>\n",
       "      <td>1</td>\n",
       "      <td>9.02</td>\n",
       "      <td>13.635</td>\n",
       "      <td>80</td>\n",
       "      <td>0.0</td>\n",
       "      <td>5</td>\n",
       "      <td>27</td>\n",
       "      <td>32</td>\n",
       "      <td>2011-01-01</td>\n",
       "    </tr>\n",
       "    <tr>\n",
       "      <th>3</th>\n",
       "      <td>1</td>\n",
       "      <td>0</td>\n",
       "      <td>0</td>\n",
       "      <td>1</td>\n",
       "      <td>9.84</td>\n",
       "      <td>14.395</td>\n",
       "      <td>75</td>\n",
       "      <td>0.0</td>\n",
       "      <td>3</td>\n",
       "      <td>10</td>\n",
       "      <td>13</td>\n",
       "      <td>2011-01-01</td>\n",
       "    </tr>\n",
       "    <tr>\n",
       "      <th>4</th>\n",
       "      <td>1</td>\n",
       "      <td>0</td>\n",
       "      <td>0</td>\n",
       "      <td>1</td>\n",
       "      <td>9.84</td>\n",
       "      <td>14.395</td>\n",
       "      <td>75</td>\n",
       "      <td>0.0</td>\n",
       "      <td>0</td>\n",
       "      <td>1</td>\n",
       "      <td>1</td>\n",
       "      <td>2011-01-01</td>\n",
       "    </tr>\n",
       "  </tbody>\n",
       "</table>\n",
       "</div>"
      ],
      "text/plain": [
       "  season holiday workingday weather  temp   atemp  humidity  windspeed  \\\n",
       "0      1       0          0       1  9.84  14.395        81        0.0   \n",
       "1      1       0          0       1  9.02  13.635        80        0.0   \n",
       "2      1       0          0       1  9.02  13.635        80        0.0   \n",
       "3      1       0          0       1  9.84  14.395        75        0.0   \n",
       "4      1       0          0       1  9.84  14.395        75        0.0   \n",
       "\n",
       "   casual  registered  count        date  \n",
       "0       3          13     16  2011-01-01  \n",
       "1       8          32     40  2011-01-01  \n",
       "2       5          27     32  2011-01-01  \n",
       "3       3          10     13  2011-01-01  \n",
       "4       0           1      1  2011-01-01  "
      ]
     },
     "execution_count": 51,
     "metadata": {},
     "output_type": "execute_result"
    }
   ],
   "source": [
    "df = df.drop(columns=['datetime'],axis=1)\n",
    "df.head()"
   ]
  },
  {
   "cell_type": "code",
   "execution_count": 53,
   "id": "0867c0b5",
   "metadata": {},
   "outputs": [
    {
     "data": {
      "text/plain": [
       "<AxesSubplot:xlabel='season', ylabel='count'>"
      ]
     },
     "execution_count": 53,
     "metadata": {},
     "output_type": "execute_result"
    },
    {
     "data": {
      "image/png": "[encoded data removed]",
      "text/plain": [
       "<Figure size 432x288 with 1 Axes>"
      ]
     },
     "metadata": {
      "needs_background": "light"
     },
     "output_type": "display_data"
    }
   ],
   "source": [
    "#Lets analyse the season variable and combine it with count to establish an overall relationship\n",
    "sns.countplot(x= 'season',data=df)"
   ]
  },
  {
   "cell_type": "markdown",
   "id": "c5f5ae1d",
   "metadata": {},
   "source": [
    "The following plot shows that all season have almost equal number of data points."
   ]
  },
  {
   "cell_type": "code",
   "execution_count": 115,
   "id": "80bb79ee",
   "metadata": {},
   "outputs": [
    {
     "data": {
      "text/plain": [
       "date\n",
       "2011-01-01     985\n",
       "2011-01-02     801\n",
       "2011-01-03    1349\n",
       "2011-01-04    1562\n",
       "2011-01-05    1600\n",
       "              ... \n",
       "2012-03-15    6192\n",
       "2012-03-16    4378\n",
       "2012-03-17    7836\n",
       "2012-03-18    5892\n",
       "2012-03-19    6153\n",
       "Name: count, Length: 114, dtype: int64"
      ]
     },
     "execution_count": 115,
     "metadata": {},
     "output_type": "execute_result"
    }
   ],
   "source": [
    "df_season1 = df.loc[df['season']==1]\n",
    "season1_count = df_season1.groupby('date')['count'].sum()\n",
    "season1_count"
   ]
  },
  {
   "cell_type": "code",
   "execution_count": 116,
   "id": "fb0cb093",
   "metadata": {},
   "outputs": [
    {
     "data": {
      "text/plain": [
       "date\n",
       "2011-04-01    2227\n",
       "2011-04-02    2252\n",
       "2011-04-03    3249\n",
       "2011-04-04    3115\n",
       "2011-04-05    1795\n",
       "              ... \n",
       "2012-06-15    7665\n",
       "2012-06-16    7702\n",
       "2012-06-17    6978\n",
       "2012-06-18    5099\n",
       "2012-06-19    6825\n",
       "Name: count, Length: 114, dtype: int64"
      ]
     },
     "execution_count": 116,
     "metadata": {},
     "output_type": "execute_result"
    }
   ],
   "source": [
    "df_season2 = df.loc[df['season']==2]\n",
    "season2_count = df_season2.groupby('date')['count'].sum()\n",
    "season2_count"
   ]
  },
  {
   "cell_type": "code",
   "execution_count": 117,
   "id": "d0015af3",
   "metadata": {},
   "outputs": [
    {
     "data": {
      "text/plain": [
       "date\n",
       "2011-07-01    5362\n",
       "2011-07-02    5119\n",
       "2011-07-03    4649\n",
       "2011-07-04    6043\n",
       "2011-07-05    4665\n",
       "              ... \n",
       "2012-09-15    8714\n",
       "2012-09-16    7333\n",
       "2012-09-17    6869\n",
       "2012-09-18    4073\n",
       "2012-09-19    7591\n",
       "Name: count, Length: 114, dtype: int64"
      ]
     },
     "execution_count": 117,
     "metadata": {},
     "output_type": "execute_result"
    }
   ],
   "source": [
    "df_season3 = df.loc[df['season']==3]\n",
    "season3_count = df_season3.groupby('date')['count'].sum()\n",
    "season3_count"
   ]
  },
  {
   "cell_type": "code",
   "execution_count": 118,
   "id": "dc0a4fa3",
   "metadata": {},
   "outputs": [
    {
     "data": {
      "text/plain": [
       "date\n",
       "2011-10-01    2429\n",
       "2011-10-02    2918\n",
       "2011-10-03    3570\n",
       "2011-10-04    4456\n",
       "2011-10-05    4826\n",
       "              ... \n",
       "2012-12-15    5047\n",
       "2012-12-16    3786\n",
       "2012-12-17    4585\n",
       "2012-12-18    5557\n",
       "2012-12-19    5267\n",
       "Name: count, Length: 114, dtype: int64"
      ]
     },
     "execution_count": 118,
     "metadata": {},
     "output_type": "execute_result"
    }
   ],
   "source": [
    "df_season4 = df.loc[df['season']==4]\n",
    "season4_count = df_season4.groupby('date')['count'].sum()\n",
    "season4_count"
   ]
  },
  {
   "cell_type": "code",
   "execution_count": 120,
   "id": "00022485",
   "metadata": {},
   "outputs": [
    {
     "data": {
      "text/plain": [
       "[2741.2105263157896, 5160.368421052632, 5619.8421052631575, 4772.228070175439]"
      ]
     },
     "execution_count": 120,
     "metadata": {},
     "output_type": "execute_result"
    }
   ],
   "source": [
    "season_count = [season1_count.mean(),season2_count.mean(),season3_count.mean(),season4_count.mean()]\n",
    "season_count"
   ]
  },
  {
   "cell_type": "code",
   "execution_count": 121,
   "id": "378ca51e",
   "metadata": {},
   "outputs": [
    {
     "data": {
      "text/plain": [
       "<AxesSubplot:>"
      ]
     },
     "execution_count": 121,
     "metadata": {},
     "output_type": "execute_result"
    },
    {
     "data": {
      "image/png": "[encoded data removed]",
      "text/plain": [
       "<Figure size 432x288 with 1 Axes>"
      ]
     },
     "metadata": {
      "needs_background": "light"
     },
     "output_type": "display_data"
    }
   ],
   "source": [
    "pd.Series(season_count).plot(kind='bar')"
   ]
  },
  {
   "cell_type": "markdown",
   "id": "dd26d57a",
   "metadata": {},
   "source": [
    "The above plot shows that season 3 has the highest avg number of users per day while season 1 has the lowest avg number of users per day.\n",
    "so the plot clearly shows that seasons do affect the number of users of yulu cycles."
   ]
  },
  {
   "cell_type": "code",
   "execution_count": 56,
   "id": "afd581e4",
   "metadata": {},
   "outputs": [
    {
     "data": {
      "text/plain": [
       "<AxesSubplot:xlabel='holiday', ylabel='count'>"
      ]
     },
     "execution_count": 56,
     "metadata": {},
     "output_type": "execute_result"
    },
    {
     "data": {
      "image/png": "[encoded data removed]",
      "text/plain": [
       "<Figure size 432x288 with 1 Axes>"
      ]
     },
     "metadata": {
      "needs_background": "light"
     },
     "output_type": "display_data"
    }
   ],
   "source": [
    "#Lets analyse the holiday variable and combine it with count to establish an overall relationship\n",
    "sns.countplot(x= 'holiday',data=df)"
   ]
  },
  {
   "cell_type": "markdown",
   "id": "0ae929da",
   "metadata": {},
   "source": [
    "Most of the days are non-holiday days"
   ]
  },
  {
   "cell_type": "code",
   "execution_count": 109,
   "id": "835dd5fb",
   "metadata": {},
   "outputs": [
    {
     "data": {
      "text/plain": [
       "date\n",
       "2011-01-17    1000\n",
       "2011-04-15    3126\n",
       "2011-07-04    6043\n",
       "2011-09-05    3351\n",
       "2011-10-10    5117\n",
       "2011-11-11    3368\n",
       "2012-01-02    1951\n",
       "2012-01-16    2298\n",
       "2012-04-16    6370\n",
       "2012-07-04    7403\n",
       "2012-09-03    6034\n",
       "2012-10-08    5478\n",
       "2012-11-12    6269\n",
       "Name: count, dtype: int64"
      ]
     },
     "execution_count": 109,
     "metadata": {},
     "output_type": "execute_result"
    }
   ],
   "source": [
    "df_holiday = df.loc[df['holiday']==1]\n",
    "holiday_count = df_holiday.groupby('date')['count'].sum()\n",
    "holiday_count"
   ]
  },
  {
   "cell_type": "code",
   "execution_count": 110,
   "id": "20a90be7",
   "metadata": {},
   "outputs": [
    {
     "data": {
      "text/plain": [
       "date\n",
       "2011-01-01     985\n",
       "2011-01-02     801\n",
       "2011-01-03    1349\n",
       "2011-01-04    1562\n",
       "2011-01-05    1600\n",
       "              ... \n",
       "2012-12-15    5047\n",
       "2012-12-16    3786\n",
       "2012-12-17    4585\n",
       "2012-12-18    5557\n",
       "2012-12-19    5267\n",
       "Name: count, Length: 443, dtype: int64"
      ]
     },
     "execution_count": 110,
     "metadata": {},
     "output_type": "execute_result"
    }
   ],
   "source": [
    "df_non_holiday = df.loc[df['holiday']==0]\n",
    "non_holiday_count = df_non_holiday.groupby('date')['count'].sum()\n",
    "non_holiday_count"
   ]
  },
  {
   "cell_type": "code",
   "execution_count": 112,
   "id": "09287032",
   "metadata": {},
   "outputs": [
    {
     "data": {
      "text/plain": [
       "[4446.7692307692305, 4577.128668171557]"
      ]
     },
     "execution_count": 112,
     "metadata": {},
     "output_type": "execute_result"
    }
   ],
   "source": [
    "holiday_count_analysis = [holiday_count.mean(),non_holiday_count.mean()]\n",
    "holiday_count_analysis"
   ]
  },
  {
   "cell_type": "code",
   "execution_count": 113,
   "id": "f8904b1b",
   "metadata": {},
   "outputs": [
    {
     "data": {
      "text/plain": [
       "<AxesSubplot:>"
      ]
     },
     "execution_count": 113,
     "metadata": {},
     "output_type": "execute_result"
    },
    {
     "data": {
      "image/png": "[encoded data removed]",
      "text/plain": [
       "<Figure size 432x288 with 1 Axes>"
      ]
     },
     "metadata": {
      "needs_background": "light"
     },
     "output_type": "display_data"
    }
   ],
   "source": [
    "pd.Series(holiday_count_analysis).plot(kind='bar')"
   ]
  },
  {
   "cell_type": "markdown",
   "id": "8857bcf7",
   "metadata": {},
   "source": [
    "From the plot we can observe that there is no big difference in the number of users of cycle whether its a holiday or a non holiday from the sample data but still non holiday days have higher users count as compared to holiday."
   ]
  },
  {
   "cell_type": "code",
   "execution_count": 58,
   "id": "00f2ccdb",
   "metadata": {},
   "outputs": [
    {
     "data": {
      "text/plain": [
       "<AxesSubplot:xlabel='weather', ylabel='count'>"
      ]
     },
     "execution_count": 58,
     "metadata": {},
     "output_type": "execute_result"
    },
    {
     "data": {
      "image/png": "[encoded data removed]",
      "text/plain": [
       "<Figure size 432x288 with 1 Axes>"
      ]
     },
     "metadata": {
      "needs_background": "light"
     },
     "output_type": "display_data"
    }
   ],
   "source": [
    "#Lets analyse the weather variable and combine it with count to establish an overall relationship\n",
    "sns.countplot(x= 'weather',data=df)"
   ]
  },
  {
   "cell_type": "markdown",
   "id": "19c1ea05",
   "metadata": {},
   "source": [
    "The plot shows that most probably the weather is of 1st type and least of 4th type."
   ]
  },
  {
   "cell_type": "code",
   "execution_count": 86,
   "id": "046aeca3",
   "metadata": {},
   "outputs": [
    {
     "data": {
      "text/plain": [
       "date\n",
       "2011-01-01     305\n",
       "2011-01-02     165\n",
       "2011-01-03    1349\n",
       "2011-01-04    1520\n",
       "2011-01-05    1600\n",
       "              ... \n",
       "2012-12-14    5611\n",
       "2012-12-15    4422\n",
       "2012-12-16     109\n",
       "2012-12-18    5204\n",
       "2012-12-19    5267\n",
       "Name: count, Length: 434, dtype: int64"
      ]
     },
     "execution_count": 86,
     "metadata": {},
     "output_type": "execute_result"
    }
   ],
   "source": [
    "df_weather_1 = df.loc[df['weather']==1]\n",
    "weather1_count = df_weather_1.groupby('date')['count'].sum()\n",
    "weather1_count"
   ]
  },
  {
   "cell_type": "code",
   "execution_count": 87,
   "id": "1d8f73fc",
   "metadata": {},
   "outputs": [
    {
     "data": {
      "text/plain": [
       "date\n",
       "2011-01-01     608\n",
       "2011-01-02     417\n",
       "2011-01-04      42\n",
       "2011-01-06     381\n",
       "2011-01-07     706\n",
       "              ... \n",
       "2012-12-13     106\n",
       "2012-12-15     625\n",
       "2012-12-16    3474\n",
       "2012-12-17    4231\n",
       "2012-12-18      40\n",
       "Name: count, Length: 346, dtype: int64"
      ]
     },
     "execution_count": 87,
     "metadata": {},
     "output_type": "execute_result"
    }
   ],
   "source": [
    "df_weather_2 = df.loc[df['weather']==2]\n",
    "weather2_count = df_weather_2.groupby('date')['count'].sum()\n",
    "weather2_count"
   ]
  },
  {
   "cell_type": "code",
   "execution_count": 88,
   "id": "447cc1ca",
   "metadata": {},
   "outputs": [
    {
     "data": {
      "text/plain": [
       "date\n",
       "2011-01-01     72\n",
       "2011-01-02    219\n",
       "2011-01-07      5\n",
       "2011-01-08     43\n",
       "2011-01-11    246\n",
       "             ... \n",
       "2012-12-10    547\n",
       "2012-12-11     75\n",
       "2012-12-16    203\n",
       "2012-12-17    354\n",
       "2012-12-18    313\n",
       "Name: count, Length: 187, dtype: int64"
      ]
     },
     "execution_count": 88,
     "metadata": {},
     "output_type": "execute_result"
    }
   ],
   "source": [
    "df_weather_3 = df.loc[df['weather']==3]\n",
    "weather3_count = df_weather_3.groupby('date')['count'].sum()\n",
    "weather3_count"
   ]
  },
  {
   "cell_type": "code",
   "execution_count": 89,
   "id": "cef75a8f",
   "metadata": {},
   "outputs": [
    {
     "data": {
      "text/plain": [
       "date\n",
       "2012-01-09    164\n",
       "Name: count, dtype: int64"
      ]
     },
     "execution_count": 89,
     "metadata": {},
     "output_type": "execute_result"
    }
   ],
   "source": [
    "df_weather_4 = df.loc[df['weather']==4]\n",
    "weather4_count = df_weather_4.groupby('date')['count'].sum()\n",
    "weather4_count"
   ]
  },
  {
   "cell_type": "code",
   "execution_count": 90,
   "id": "7425489c",
   "metadata": {},
   "outputs": [
    {
     "data": {
      "text/plain": [
       "[3401.0668202764978, 1465.7803468208092, 545.9304812834224, 164.0]"
      ]
     },
     "execution_count": 90,
     "metadata": {},
     "output_type": "execute_result"
    }
   ],
   "source": [
    "weather_count = [weather1_count.mean(),weather2_count.mean(),weather3_count.mean(),weather4_count.mean()]\n",
    "weather_count"
   ]
  },
  {
   "cell_type": "code",
   "execution_count": 108,
   "id": "5c3bcf76",
   "metadata": {},
   "outputs": [
    {
     "data": {
      "text/plain": [
       "<AxesSubplot:xlabel='weathers', ylabel='avg users per day'>"
      ]
     },
     "execution_count": 108,
     "metadata": {},
     "output_type": "execute_result"
    },
    {
     "data": {
      "image/png": "[encoded data removed]",
      "text/plain": [
       "<Figure size 432x288 with 1 Axes>"
      ]
     },
     "metadata": {
      "needs_background": "light"
     },
     "output_type": "display_data"
    }
   ],
   "source": [
    "pd.Series([weather1_count.mean(),weather2_count.mean(),weather3_count.mean(),weather4_count.mean()]).plot(kind='bar',xlabel='weathers',ylabel='avg users per day')"
   ]
  },
  {
   "cell_type": "markdown",
   "id": "0c20b3f1",
   "metadata": {},
   "source": [
    "From above plot we observe that the highest avg number of users per day are in weather 1 while the least are in weather 4."
   ]
  },
  {
   "cell_type": "code",
   "execution_count": 64,
   "id": "5e0074d4",
   "metadata": {},
   "outputs": [
    {
     "data": {
      "text/plain": [
       "<AxesSubplot:xlabel='workingday', ylabel='count'>"
      ]
     },
     "execution_count": 64,
     "metadata": {},
     "output_type": "execute_result"
    },
    {
     "data": {
      "image/png": "[encoded data removed]",
      "text/plain": [
       "<Figure size 432x288 with 1 Axes>"
      ]
     },
     "metadata": {
      "needs_background": "light"
     },
     "output_type": "display_data"
    }
   ],
   "source": [
    "#Lets analyse the working day variable and combine it with count to establish an overall relationship\n",
    "sns.countplot(x= 'workingday',data=df)"
   ]
  },
  {
   "cell_type": "markdown",
   "id": "0718c0ab",
   "metadata": {},
   "source": [
    "From above plot we can simply infer that majority of the days in our sample are working day"
   ]
  },
  {
   "cell_type": "code",
   "execution_count": 85,
   "id": "ae38ddb7",
   "metadata": {},
   "outputs": [
    {
     "data": {
      "text/plain": [
       "date\n",
       "2011-01-03    1349\n",
       "2011-01-04    1562\n",
       "2011-01-05    1600\n",
       "2011-01-06    1606\n",
       "2011-01-07    1510\n",
       "              ... \n",
       "2012-12-13    5532\n",
       "2012-12-14    5611\n",
       "2012-12-17    4585\n",
       "2012-12-18    5557\n",
       "2012-12-19    5267\n",
       "Name: count, Length: 311, dtype: int64"
      ]
     },
     "execution_count": 85,
     "metadata": {},
     "output_type": "execute_result"
    }
   ],
   "source": [
    "df_work = df.loc[df['workingday']==1]\n",
    "working_count = df_work.groupby('date')['count'].sum()\n",
    "working_count"
   ]
  },
  {
   "cell_type": "code",
   "execution_count": 81,
   "id": "faf9a4fc",
   "metadata": {},
   "outputs": [
    {
     "data": {
      "text/plain": [
       "date\n",
       "2011-01-01     985\n",
       "2011-01-02     801\n",
       "2011-01-08     959\n",
       "2011-01-09     822\n",
       "2011-01-15    1248\n",
       "              ... \n",
       "2012-12-02    4649\n",
       "2012-12-08    5582\n",
       "2012-12-09    3228\n",
       "2012-12-15    5047\n",
       "2012-12-16    3786\n",
       "Name: count, Length: 145, dtype: int64"
      ]
     },
     "execution_count": 81,
     "metadata": {},
     "output_type": "execute_result"
    }
   ],
   "source": [
    "df_work = df.loc[df['workingday']==0]\n",
    "non_working_count = df_work.groupby('date')['count'].sum()\n",
    "non_working_count"
   ]
  },
  {
   "cell_type": "code",
   "execution_count": 82,
   "id": "020238e7",
   "metadata": {},
   "outputs": [
    {
     "data": {
      "text/plain": [
       "(4600.012861736334, 4516.358620689655)"
      ]
     },
     "execution_count": 82,
     "metadata": {},
     "output_type": "execute_result"
    }
   ],
   "source": [
    "working_count.mean(),non_working_count.mean()"
   ]
  },
  {
   "cell_type": "code",
   "execution_count": 83,
   "id": "839c0f9a",
   "metadata": {},
   "outputs": [
    {
     "data": {
      "text/plain": [
       "<AxesSubplot:>"
      ]
     },
     "execution_count": 83,
     "metadata": {},
     "output_type": "execute_result"
    },
    {
     "data": {
      "image/png": "[encoded data removed]",
      "text/plain": [
       "<Figure size 432x288 with 1 Axes>"
      ]
     },
     "metadata": {
      "needs_background": "light"
     },
     "output_type": "display_data"
    }
   ],
   "source": [
    "pd.Series([working_count.mean(),non_working_count.mean()]).plot(kind='bar')"
   ]
  },
  {
   "cell_type": "markdown",
   "id": "0645cdde",
   "metadata": {},
   "source": [
    "The above plot shows that the on an avg users per day is almost similar on working days and non working days since the mean of users per day on working day is around 4600 and for non working day around 4516. But to be specific working days do have more number of users as compare to non working days."
   ]
  },
  {
   "cell_type": "markdown",
   "id": "765b15c4",
   "metadata": {},
   "source": [
    "# Using 2 Sample T-Test"
   ]
  },
  {
   "cell_type": "code",
   "execution_count": 131,
   "id": "70870018",
   "metadata": {},
   "outputs": [],
   "source": [
    "#For the test lets first create two sample\n",
    "working_day = np.array(working_count.values)\n",
    "non_working_day = np.array(non_working_count.values)"
   ]
  },
  {
   "cell_type": "markdown",
   "id": "70332a19",
   "metadata": {},
   "source": [
    "Now lets first validate the assumption of the 2 Sample T-Test i.e if the variance of the two sample is equal or not, as the working days has a bigger data so the ratio of the larger data group to the small data group should be less than 4:1 then we can consider that the given data groups have equal variance."
   ]
  },
  {
   "cell_type": "code",
   "execution_count": 132,
   "id": "3bc85163",
   "metadata": {},
   "outputs": [
    {
     "data": {
      "text/plain": [
       "0.877311059104065"
      ]
     },
     "execution_count": 132,
     "metadata": {},
     "output_type": "execute_result"
    }
   ],
   "source": [
    "np.var(working_day)/np.var(non_working_day)"
   ]
  },
  {
   "cell_type": "markdown",
   "id": "5058d056",
   "metadata": {},
   "source": [
    "so as ratio is less than 4:1 so we can say that the given data groups have equal variance"
   ]
  },
  {
   "cell_type": "markdown",
   "id": "e1fb7fcb",
   "metadata": {},
   "source": [
    "Lets perform 2 Sample T-Test and Before we proceed lets establish our significance value to be 5%\n",
    "And our Null Hypothesis (Ho) and Alternate Hypothesis (Ha)\n",
    "1. Ho: No. of cycles rented are similar whether its a working day or not\n",
    "2. Ha: No. of cycles rented are different for working and non-working day"
   ]
  },
  {
   "cell_type": "code",
   "execution_count": 133,
   "id": "6c521125",
   "metadata": {},
   "outputs": [
    {
     "data": {
      "text/plain": [
       "Ttest_indResult(statistic=0.44477221614881995, pvalue=0.656696335987859)"
      ]
     },
     "execution_count": 133,
     "metadata": {},
     "output_type": "execute_result"
    }
   ],
   "source": [
    "stats.ttest_ind(a=working_day,b=non_working_day,equal_var=True)"
   ]
  },
  {
   "cell_type": "markdown",
   "id": "d71b1ac7",
   "metadata": {},
   "source": [
    "As we observe that the p-value(0.656696335987859) is much higher than the significance value(0.05) and shows that this result that we observed is very likely to happen if our null hypothesis was true.\n",
    "So we can confidently fail to reject our null hypothesis and conclude that the No. of cycles rented are similar whether its a working day or not and hence no. of cycles rented are not affected by whether its a working day or non working day. "
   ]
  },
  {
   "cell_type": "markdown",
   "id": "9900a2ac",
   "metadata": {},
   "source": [
    "# Using ANOVA for Weather"
   ]
  },
  {
   "cell_type": "markdown",
   "id": "50654bcc",
   "metadata": {},
   "source": [
    "Checking if the count sample of no. of cycles rented of different weather is similar or different in different weather"
   ]
  },
  {
   "cell_type": "code",
   "execution_count": 122,
   "id": "7179c786",
   "metadata": {},
   "outputs": [
    {
     "data": {
      "text/plain": [
       "<AxesSubplot:ylabel='Density'>"
      ]
     },
     "execution_count": 122,
     "metadata": {},
     "output_type": "execute_result"
    },
    {
     "data": {
      "image/png": "[encoded data removed]",
      "text/plain": [
       "<Figure size 432x288 with 1 Axes>"
      ]
     },
     "metadata": {
      "needs_background": "light"
     },
     "output_type": "display_data"
    }
   ],
   "source": [
    "# lets first check the assumptions for anova by ploting the overall distribution of count varible and see if it is gaussian or not\n",
    "df_weather = df.groupby('date')['count'].sum()\n",
    "df_weather.plot(kind='kde')"
   ]
  },
  {
   "cell_type": "code",
   "execution_count": 123,
   "id": "c115d43c",
   "metadata": {},
   "outputs": [],
   "source": [
    "import statsmodels.api as sm"
   ]
  },
  {
   "cell_type": "code",
   "execution_count": 124,
   "id": "174697f9",
   "metadata": {},
   "outputs": [
    {
     "data": {
      "image/png": "[encoded data removed]",
      "text/plain": [
       "<Figure size 432x288 with 1 Axes>"
      ]
     },
     "execution_count": 124,
     "metadata": {},
     "output_type": "execute_result"
    },
    {
     "data": {
      "image/png": "[encoded data removed]",
      "text/plain": [
       "<Figure size 432x288 with 1 Axes>"
      ]
     },
     "metadata": {
      "needs_background": "light"
     },
     "output_type": "display_data"
    }
   ],
   "source": [
    "sm.qqplot(df_weather, dist=stats.norm, line='s')"
   ]
  },
  {
   "cell_type": "markdown",
   "id": "e417e3e4",
   "metadata": {},
   "source": [
    "QQ plot shows that it not exactly gaussian but somewhat similar to it except at the edges containing outliers but still we have retain the outliers so that our sample is asa bigger as possible and our hypothesis testing gives more accurate result."
   ]
  },
  {
   "cell_type": "code",
   "execution_count": 154,
   "id": "7f7b67a7",
   "metadata": {},
   "outputs": [
    {
     "data": {
      "text/plain": [
       "[3401.0668202764978, 1465.7803468208092, 545.9304812834224, 164.0]"
      ]
     },
     "execution_count": 154,
     "metadata": {},
     "output_type": "execute_result"
    }
   ],
   "source": [
    "Means_of_the_samples  = [weather1_count.mean(),weather2_count.mean(),weather3_count.mean(),weather4_count.mean()]\n",
    "Means_of_the_samples"
   ]
  },
  {
   "cell_type": "markdown",
   "id": "4b5c9652",
   "metadata": {},
   "source": [
    "There are two more assumptions for anova-\n",
    "1. The samples are randomly picked which is true for our sample case since no biasing is done.\n",
    "2. The means of the individual samples are relatively closure to each other but here this assumption is not being followed."
   ]
  },
  {
   "cell_type": "code",
   "execution_count": 125,
   "id": "74ca93dd",
   "metadata": {},
   "outputs": [],
   "source": [
    "# Now lets apply the annova test to the count variable of different weather\n",
    "from scipy.stats import f_oneway"
   ]
  },
  {
   "cell_type": "markdown",
   "id": "ef5bc92a",
   "metadata": {},
   "source": [
    "Before we proceed lets establish our significance value to be 5%\n",
    "And our Null Hypothesis (Ho) and Alternate Hypothesis (Ha)\n",
    "1. Ho: No. of cycles are similar in different weather\n",
    "2. Ha: No. of cycles are different in different weather"
   ]
  },
  {
   "cell_type": "code",
   "execution_count": 128,
   "id": "b4090092",
   "metadata": {},
   "outputs": [
    {
     "data": {
      "text/plain": [
       "F_onewayResult(statistic=163.65974098613603, pvalue=9.71529956995491e-86)"
      ]
     },
     "execution_count": 128,
     "metadata": {},
     "output_type": "execute_result"
    }
   ],
   "source": [
    "a = weather1_count.values\n",
    "b = weather2_count.values\n",
    "c = weather3_count.values\n",
    "d = weather4_count.values\n",
    "f_oneway(a,b,c,d)"
   ]
  },
  {
   "cell_type": "markdown",
   "id": "3853d1be",
   "metadata": {},
   "source": [
    "As we observe that the p-value(9.71529956995491e-86) is very low than the significance value(0.05) and shows that this result that we observed is very unlikely to happen if our null hypothesis was true.\n",
    "So we can confidently reject our null hypothesis and conclude that the count sample of no. of cycles rented of different weather is different in different weather."
   ]
  },
  {
   "cell_type": "markdown",
   "id": "563cf550",
   "metadata": {},
   "source": [
    "# Using ANOVA for Season"
   ]
  },
  {
   "cell_type": "markdown",
   "id": "8090411e",
   "metadata": {},
   "source": [
    "Checking if the count sample of no. of cycles rented of different weather is similar or different in different season"
   ]
  },
  {
   "cell_type": "markdown",
   "id": "0a1fbce9",
   "metadata": {},
   "source": [
    "Here we already know that the distribution is same of overall count and for that we have already checked the assumptions for anova so we will directly do the test for different seasons"
   ]
  },
  {
   "cell_type": "markdown",
   "id": "b065eee5",
   "metadata": {},
   "source": [
    "Before we proceed lets establish our significance value to be 5%\n",
    "And our Null Hypothesis (Ho) and Alternate Hypothesis (Ha)\n",
    "1. Ho: No. of cycles are similar in different season\n",
    "2. Ha: No. of cycles are different in different season"
   ]
  },
  {
   "cell_type": "code",
   "execution_count": 129,
   "id": "04efe721",
   "metadata": {},
   "outputs": [
    {
     "data": {
      "text/plain": [
       "F_onewayResult(statistic=80.0504789788067, pvalue=1.506580502991204e-41)"
      ]
     },
     "execution_count": 129,
     "metadata": {},
     "output_type": "execute_result"
    }
   ],
   "source": [
    "p = season1_count.values\n",
    "q = season2_count.values\n",
    "r = season3_count.values\n",
    "s = season4_count.values\n",
    "f_oneway(p,q,r,s)"
   ]
  },
  {
   "cell_type": "markdown",
   "id": "e2d069bd",
   "metadata": {},
   "source": [
    "As we observe that the p-value(1.506580502991204e-41) is very low than the significance value(0.05) and shows that this result that we observed is very unlikely to happen if our null hypothesis was true.\n",
    "So we can confidently reject our null hypothesis and conclude that the count sample of no. of cycles rented of different seasons is different in different seasons."
   ]
  },
  {
   "cell_type": "markdown",
   "id": "69227b3e",
   "metadata": {},
   "source": [
    "# Using Chi-Square Test"
   ]
  },
  {
   "cell_type": "markdown",
   "id": "36e91873",
   "metadata": {},
   "source": [
    "Using Chi-square test to check if Weather is dependent on the season"
   ]
  },
  {
   "cell_type": "code",
   "execution_count": 151,
   "id": "d633858f",
   "metadata": {},
   "outputs": [
    {
     "data": {
      "text/html": [
       "<div>\n",
       "<style scoped>\n",
       "    .dataframe tbody tr th:only-of-type {\n",
       "        vertical-align: middle;\n",
       "    }\n",
       "\n",
       "    .dataframe tbody tr th {\n",
       "        vertical-align: top;\n",
       "    }\n",
       "\n",
       "    .dataframe thead th {\n",
       "        text-align: right;\n",
       "    }\n",
       "</style>\n",
       "<table border=\"1\" class=\"dataframe\">\n",
       "  <thead>\n",
       "    <tr style=\"text-align: right;\">\n",
       "      <th>season</th>\n",
       "      <th>1</th>\n",
       "      <th>2</th>\n",
       "      <th>3</th>\n",
       "      <th>4</th>\n",
       "    </tr>\n",
       "    <tr>\n",
       "      <th>weather</th>\n",
       "      <th></th>\n",
       "      <th></th>\n",
       "      <th></th>\n",
       "      <th></th>\n",
       "    </tr>\n",
       "  </thead>\n",
       "  <tbody>\n",
       "    <tr>\n",
       "      <th>1</th>\n",
       "      <td>1759</td>\n",
       "      <td>1801</td>\n",
       "      <td>1930</td>\n",
       "      <td>1702</td>\n",
       "    </tr>\n",
       "    <tr>\n",
       "      <th>2</th>\n",
       "      <td>715</td>\n",
       "      <td>708</td>\n",
       "      <td>604</td>\n",
       "      <td>807</td>\n",
       "    </tr>\n",
       "    <tr>\n",
       "      <th>3</th>\n",
       "      <td>211</td>\n",
       "      <td>224</td>\n",
       "      <td>199</td>\n",
       "      <td>225</td>\n",
       "    </tr>\n",
       "    <tr>\n",
       "      <th>4</th>\n",
       "      <td>1</td>\n",
       "      <td>0</td>\n",
       "      <td>0</td>\n",
       "      <td>0</td>\n",
       "    </tr>\n",
       "  </tbody>\n",
       "</table>\n",
       "</div>"
      ],
      "text/plain": [
       "season      1     2     3     4\n",
       "weather                        \n",
       "1        1759  1801  1930  1702\n",
       "2         715   708   604   807\n",
       "3         211   224   199   225\n",
       "4           1     0     0     0"
      ]
     },
     "execution_count": 151,
     "metadata": {},
     "output_type": "execute_result"
    }
   ],
   "source": [
    "#Lets first create the table between weather and season to see the count relative to each other\n",
    "pd.crosstab(df['weather'],df['season'])"
   ]
  },
  {
   "cell_type": "markdown",
   "id": "2b47c508",
   "metadata": {},
   "source": [
    "Before we proceed lets establish our significance value to be 5%\n",
    "And our Null Hypothesis (Ho) and Alternate Hypothesis (Ha)\n",
    "1. Ho: there is no relation between weather and season variable\n",
    "2. Ha: there is significant relation between weather and season variable"
   ]
  },
  {
   "cell_type": "code",
   "execution_count": 152,
   "id": "b5f8856d",
   "metadata": {},
   "outputs": [
    {
     "data": {
      "text/plain": [
       "2.8260014509929403e-08"
      ]
     },
     "execution_count": 152,
     "metadata": {},
     "output_type": "execute_result"
    }
   ],
   "source": [
    "# Lets perform the test\n",
    "from scipy.stats import chi2_contingency\n",
    "data = [[1759,1801,1930,1702],[715,708,604,807],[211,224,199,225]]\n",
    "stat,p,dof,expected = chi2_contingency(data)\n",
    "p"
   ]
  },
  {
   "cell_type": "markdown",
   "id": "f6094089",
   "metadata": {},
   "source": [
    "As we observe that the p-value(2.8260014509929403e-08) is very low than the significance value(0.05) and shows that this result that we observed is very unlikely to happen if our null hypothesis was true.\n",
    "So we can confidently reject our null hypothesis and conclude that there is significant relation between weather and season variable and are dependent on each other."
   ]
  },
  {
   "cell_type": "markdown",
   "id": "5b8e0b15",
   "metadata": {},
   "source": [
    "# General Insights"
   ]
  },
  {
   "cell_type": "markdown",
   "id": "9a057591",
   "metadata": {},
   "source": [
    "Univariate Analysis Insights\n",
    "1. The displot shows that the chance of the total count of cycle users per day are highest in range (3000,6000) with mean being at 4573. [cell 30]\n",
    "2. No outliers detected for the total count based on day wise boxplot but there are ouliers for casual and registered distribution.[cell 39,163,166]\n",
    "3. The plot shows that all season have almost equal number of data points.[cell 53]\n",
    "4. Most of the days are non-holiday days in the sample.[cell 56]\n",
    "5. The plot shows that most probably the weather is of 1st type [Clear, Few clouds, partly cloudy, partly cloudy] and least of 4th type[ Heavy Rain + Ice Pallets + Thunderstorm + Mist, Snow + Fog].[cell 58]\n",
    "6. From above plot we can simply infer that majority of the days in our sample are working day [cell 64] \n",
    "\n",
    "Bi-variate Analysis Insights\n",
    "1. The plot shows that season 3[fall] has the highest avg number of users per day while season 1[spring] has the lowest avg number of users per day. So the plot clearly shows that seasons do affect the number of users of yulu cycles.[cell 121]\n",
    "2. From the plot we can observe that there is no big difference in the number of users of cycle whether its a holiday or a non holiday from the sample data but still non holiday days have higher users count as compared to holiday.[cell 113]\n",
    "3. From plot we observe that the highest avg number of users per day are in weather 1 while the least are in weather 4.[cell 108]\n",
    "4. The plot shows that the on an avg users per day is almost similar on working days and non working days since the mean of users per day on working day is around 4600 and for non working day around 4516. But to be specific working days do have more number of users as compare to non working days.[cell 83]\n",
    "\n",
    "Hypothesis Testing\n",
    "2 Sample T-Test\n",
    "1. After applying test we cocluded that no. of cycles rented are not affected by whether its a working day or non working day.\n",
    "Annova Test\n",
    "1. For Weather after test we conclude that the count sample of no. of cycles rented of different weather is different in different weather.\n",
    "2. For Season after test we conclude that the count sample of no. of cycles rented of different seasons is different in different seasons.\n",
    "Chi-Square Test\n",
    "1. For weather and season dependency after test we conclude that there is significant relation between weather and season variable and are dependent on each other."
   ]
  },
  {
   "cell_type": "markdown",
   "id": "0fbc97aa",
   "metadata": {},
   "source": [
    "# Recommendation "
   ]
  },
  {
   "cell_type": "markdown",
   "id": "7de72770",
   "metadata": {},
   "source": [
    "1. Number of cycles rented are greatly impacted by weather which we have already proved using annova test and using bi-variate analysis we observed that the numbers are high for Clear, Few clouds, partly cloudy, partly cloudy so we should increase our business in these type of seasons.\n",
    "2. From bi-variate analysis we also observed that the cycles rented were least in the weather type like  Heavy Rain + Ice Pallets + Thunderstorm + Mist, Snow + Fog so may be can innovate some technicalities in our bike to make them more suitable for these type of wheather to increase the use of our cycles.\n",
    "3. From annova test we also concluded that number of cycles that are rented were affected by seasons and from bi-variate analysis we observed that the no. was highest for season 3 i.e fall and season 2 i.e summer so we should try to expand our businees in these type of seasons.\n",
    "4. From our analysis we also observed that the no. of cycles rented were least in season 1 i.e spring and same things can be applied what we applied with rainy weather type like adding some funtionalities to make use of these cycles easier in these type of seasons.\n",
    "5. Using chi-square test we got that weather and season depend on each other and since the no. of cycles rented depend on these two factors so we can see the overlap and combine weather and season like in summer,fall and weather of type Clear, Few clouds, partly cloudy, partly cloudy are a perfect combination for our cycles but we have to work on spring + weather type Heavy Rain + Ice Pallets + Thunderstorm + Mist, Snow + Fog as they can cause huge reduction in usage of cycles.\n",
    "6. We dont have to worry about working and non working days since from bi-variate analyses and 2 sample t-test we found that it does not have much affect on no. of cycles rented. "
   ]
  },
  {
   "cell_type": "markdown",
   "id": "917b9994",
   "metadata": {},
   "source": [
    "# Problem Statement Answered"
   ]
  },
  {
   "cell_type": "markdown",
   "id": "a1e246ee",
   "metadata": {},
   "source": [
    "1. Weather and season variable are found to be most significant in predicting the demand for shared electric cycles in the Indian market.\n",
    "2. Weather and season have a great impact on no. of cycles rented while working days, non working days, holiday, non-holiday these variables have negligible impact on number of cycles rented as per the analysis."
   ]
  },
  {
   "cell_type": "markdown",
   "id": "254d634c",
   "metadata": {},
   "source": [
    "# --Analysis Ends Here--"
   ]
  }
 ],
 "metadata": {
  "kernelspec": {
   "display_name": "Python 3 (ipykernel)",
   "language": "python",
   "name": "python3"
  },
  "language_info": {
   "codemirror_mode": {
    "name": "ipython",
    "version": 3
   },
   "file_extension": ".py",
   "mimetype": "text/x-python",
   "name": "python",
   "nbconvert_exporter": "python",
   "pygments_lexer": "ipython3",
   "version": "3.11.1"
  }
 },
 "nbformat": 4,
 "nbformat_minor": 5
}
